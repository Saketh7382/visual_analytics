{
 "cells": [
  {
   "cell_type": "code",
   "execution_count": 1,
   "id": "b168ec03",
   "metadata": {},
   "outputs": [],
   "source": [
    "import numpy as np\n",
    "import pandas as pd\n",
    "from matplotlib import pyplot as plt\n",
    "from pathlib import Path"
   ]
  },
  {
   "cell_type": "code",
   "execution_count": 83,
   "id": "e8ba8ade",
   "metadata": {},
   "outputs": [],
   "source": [
    "merged_data = pd.read_csv(\"./datasets/merged.csv\")\n",
    "training_data = pd.read_csv(\"./datasets/training.csv\")"
   ]
  },
  {
   "cell_type": "code",
   "execution_count": 52,
   "id": "099fb183",
   "metadata": {},
   "outputs": [
    {
     "data": {
      "image/png": "[encoded data removed]",
      "text/plain": [
       "<Figure size 432x288 with 1 Axes>"
      ]
     },
     "metadata": {
      "needs_background": "light"
     },
     "output_type": "display_data"
    },
    {
     "data": {
      "text/plain": [
       "<Figure size 1440x720 with 0 Axes>"
      ]
     },
     "metadata": {},
     "output_type": "display_data"
    }
   ],
   "source": [
    "for i, binwidth in enumerate([1]):\n",
    "    \n",
    "    # Set up the plot\n",
    "    ax = plt.subplot(2, 2, i + 1)\n",
    "    \n",
    "    # Draw the plot\n",
    "    ax.hist(training_data['SALES_UNITS'], bins = int(180/binwidth),\n",
    "             color = 'blue', edgecolor = 'black')\n",
    "    \n",
    "    # Title and labels\n",
    "    ax.set_title('Histogram with Binwidth = %d' % binwidth, size = 10)\n",
    "    ax.set_xlabel('Delay (min)', size = 12)\n",
    "    ax.set_ylabel('Flights', size= 12)\n",
    "\n",
    "plt.figure(figsize=(20,10))\n",
    "plt.tight_layout()\n",
    "plt.show()"
   ]
  },
  {
   "cell_type": "code",
   "execution_count": 59,
   "id": "92202070",
   "metadata": {},
   "outputs": [
    {
     "data": {
      "text/plain": [
       "<BarContainer object of 4 artists>"
      ]
     },
     "execution_count": 59,
     "metadata": {},
     "output_type": "execute_result"
    },
    {
     "data": {
      "image/png": "[encoded data removed]",
      "text/plain": [
       "<Figure size 432x288 with 1 Axes>"
      ]
     },
     "metadata": {
      "needs_background": "light"
     },
     "output_type": "display_data"
    }
   ],
   "source": [
    "sales_dict = {\"<50\":0, \"<200\":0,\"<500\":0, \">500\": 0}\n",
    "l = training_data.shape[0]\n",
    "\n",
    "for i in range(l):\n",
    "    s = training_data.iloc[i,0]\n",
    "    if s < 75:\n",
    "        sales_dict[\"<50\"] += 1\n",
    "    elif s>=50 and s < 200:\n",
    "        sales_dict[\"<200\"] += 1\n",
    "    elif s>=200 and s < 400:\n",
    "        sales_dict[\"<500\"] += 1\n",
    "    else:\n",
    "        sales_dict[\">500\"] += 1\n",
    "        \n",
    "plt.bar(sales_dict.keys(),sales_dict.values())"
   ]
  },
  {
   "cell_type": "code",
   "execution_count": 81,
   "id": "f9a2f772",
   "metadata": {},
   "outputs": [
    {
     "data": {
      "text/html": [
       "<div>\n",
       "<style scoped>\n",
       "    .dataframe tbody tr th:only-of-type {\n",
       "        vertical-align: middle;\n",
       "    }\n",
       "\n",
       "    .dataframe tbody tr th {\n",
       "        vertical-align: top;\n",
       "    }\n",
       "\n",
       "    .dataframe thead th {\n",
       "        text-align: right;\n",
       "    }\n",
       "</style>\n",
       "<table border=\"1\" class=\"dataframe\">\n",
       "  <thead>\n",
       "    <tr style=\"text-align: right;\">\n",
       "      <th></th>\n",
       "      <th>SALES_UNITS</th>\n",
       "      <th>DATE_VALID_STD</th>\n",
       "      <th>SCRUB_STORE_NO</th>\n",
       "      <th>TIME_DIM_KEY</th>\n",
       "      <th>DOY_STD</th>\n",
       "      <th>AVG_TEMPERATURE_AIR_2M_F</th>\n",
       "      <th>AVG_TEMPERATURE_WETBULB_2M_F</th>\n",
       "      <th>AVG_TEMPERATURE_DEWPOINT_2M_F</th>\n",
       "      <th>AVG_TEMPERATURE_FEELSLIKE_2M_F</th>\n",
       "      <th>AVG_HUMIDITY_RELATIVE_2M_PCT</th>\n",
       "      <th>...</th>\n",
       "      <th>AVG_PRESSURE_MEAN_SEA_LEVEL_MB</th>\n",
       "      <th>AVG_WIND_SPEED_10M_MPH</th>\n",
       "      <th>AVG_WIND_DIRECTION_10M_DEG</th>\n",
       "      <th>AVG_WIND_DIRECTION_80M_DEG</th>\n",
       "      <th>AVG_WIND_DIRECTION_100M_DEG</th>\n",
       "      <th>TOT_PRECIPITATION_IN</th>\n",
       "      <th>TOT_SNOWFALL_IN</th>\n",
       "      <th>AVG_CLOUD_COVER_TOT_PCT</th>\n",
       "      <th>AVG_RADIATION_SOLAR_TOTAL_WPM2</th>\n",
       "      <th>TOT_RADIATION_SOLAR_TOTAL_WPM2</th>\n",
       "    </tr>\n",
       "  </thead>\n",
       "  <tbody>\n",
       "    <tr>\n",
       "      <th>0</th>\n",
       "      <td>759</td>\n",
       "      <td>2016-01-02</td>\n",
       "      <td>1</td>\n",
       "      <td>20160102</td>\n",
       "      <td>2</td>\n",
       "      <td>4.0</td>\n",
       "      <td>3.4</td>\n",
       "      <td>2.8</td>\n",
       "      <td>2.7</td>\n",
       "      <td>-4.0</td>\n",
       "      <td>...</td>\n",
       "      <td>-3.9</td>\n",
       "      <td>2.3</td>\n",
       "      <td>2</td>\n",
       "      <td>-5</td>\n",
       "      <td>-6</td>\n",
       "      <td>-0.12</td>\n",
       "      <td>-0.88</td>\n",
       "      <td>-30</td>\n",
       "      <td>-14.9</td>\n",
       "      <td>-356.6</td>\n",
       "    </tr>\n",
       "    <tr>\n",
       "      <th>1</th>\n",
       "      <td>486</td>\n",
       "      <td>2016-01-03</td>\n",
       "      <td>1</td>\n",
       "      <td>20160103</td>\n",
       "      <td>3</td>\n",
       "      <td>3.0</td>\n",
       "      <td>2.2</td>\n",
       "      <td>0.9</td>\n",
       "      <td>2.4</td>\n",
       "      <td>-7.0</td>\n",
       "      <td>...</td>\n",
       "      <td>1.6</td>\n",
       "      <td>0.9</td>\n",
       "      <td>80</td>\n",
       "      <td>72</td>\n",
       "      <td>73</td>\n",
       "      <td>-0.12</td>\n",
       "      <td>-0.76</td>\n",
       "      <td>7</td>\n",
       "      <td>1.9</td>\n",
       "      <td>46.3</td>\n",
       "    </tr>\n",
       "    <tr>\n",
       "      <th>2</th>\n",
       "      <td>326</td>\n",
       "      <td>2016-01-04</td>\n",
       "      <td>1</td>\n",
       "      <td>20160104</td>\n",
       "      <td>4</td>\n",
       "      <td>-6.6</td>\n",
       "      <td>-6.9</td>\n",
       "      <td>-8.6</td>\n",
       "      <td>-6.2</td>\n",
       "      <td>-7.0</td>\n",
       "      <td>...</td>\n",
       "      <td>13.6</td>\n",
       "      <td>-2.2</td>\n",
       "      <td>-224</td>\n",
       "      <td>-231</td>\n",
       "      <td>-229</td>\n",
       "      <td>-0.12</td>\n",
       "      <td>-0.75</td>\n",
       "      <td>-37</td>\n",
       "      <td>45.1</td>\n",
       "      <td>1083.9</td>\n",
       "    </tr>\n",
       "    <tr>\n",
       "      <th>3</th>\n",
       "      <td>395</td>\n",
       "      <td>2016-01-05</td>\n",
       "      <td>1</td>\n",
       "      <td>20160105</td>\n",
       "      <td>5</td>\n",
       "      <td>-6.5</td>\n",
       "      <td>-6.5</td>\n",
       "      <td>-6.6</td>\n",
       "      <td>-8.8</td>\n",
       "      <td>-1.4</td>\n",
       "      <td>...</td>\n",
       "      <td>13.6</td>\n",
       "      <td>0.6</td>\n",
       "      <td>-79</td>\n",
       "      <td>-78</td>\n",
       "      <td>-76</td>\n",
       "      <td>-0.12</td>\n",
       "      <td>-0.87</td>\n",
       "      <td>-6</td>\n",
       "      <td>4.1</td>\n",
       "      <td>97.2</td>\n",
       "    </tr>\n",
       "    <tr>\n",
       "      <th>4</th>\n",
       "      <td>478</td>\n",
       "      <td>2016-01-06</td>\n",
       "      <td>1</td>\n",
       "      <td>20160106</td>\n",
       "      <td>6</td>\n",
       "      <td>4.4</td>\n",
       "      <td>3.7</td>\n",
       "      <td>2.9</td>\n",
       "      <td>4.9</td>\n",
       "      <td>-5.0</td>\n",
       "      <td>...</td>\n",
       "      <td>6.8</td>\n",
       "      <td>-0.7</td>\n",
       "      <td>-65</td>\n",
       "      <td>-73</td>\n",
       "      <td>-72</td>\n",
       "      <td>-0.13</td>\n",
       "      <td>-0.88</td>\n",
       "      <td>-24</td>\n",
       "      <td>31.0</td>\n",
       "      <td>745.4</td>\n",
       "    </tr>\n",
       "  </tbody>\n",
       "</table>\n",
       "<p>5 rows × 22 columns</p>\n",
       "</div>"
      ],
      "text/plain": [
       "   SALES_UNITS DATE_VALID_STD  SCRUB_STORE_NO  TIME_DIM_KEY  DOY_STD  \\\n",
       "0          759     2016-01-02               1      20160102        2   \n",
       "1          486     2016-01-03               1      20160103        3   \n",
       "2          326     2016-01-04               1      20160104        4   \n",
       "3          395     2016-01-05               1      20160105        5   \n",
       "4          478     2016-01-06               1      20160106        6   \n",
       "\n",
       "   AVG_TEMPERATURE_AIR_2M_F  AVG_TEMPERATURE_WETBULB_2M_F  \\\n",
       "0                       4.0                           3.4   \n",
       "1                       3.0                           2.2   \n",
       "2                      -6.6                          -6.9   \n",
       "3                      -6.5                          -6.5   \n",
       "4                       4.4                           3.7   \n",
       "\n",
       "   AVG_TEMPERATURE_DEWPOINT_2M_F  AVG_TEMPERATURE_FEELSLIKE_2M_F  \\\n",
       "0                            2.8                             2.7   \n",
       "1                            0.9                             2.4   \n",
       "2                           -8.6                            -6.2   \n",
       "3                           -6.6                            -8.8   \n",
       "4                            2.9                             4.9   \n",
       "\n",
       "   AVG_HUMIDITY_RELATIVE_2M_PCT  ...  AVG_PRESSURE_MEAN_SEA_LEVEL_MB  \\\n",
       "0                          -4.0  ...                            -3.9   \n",
       "1                          -7.0  ...                             1.6   \n",
       "2                          -7.0  ...                            13.6   \n",
       "3                          -1.4  ...                            13.6   \n",
       "4                          -5.0  ...                             6.8   \n",
       "\n",
       "   AVG_WIND_SPEED_10M_MPH  AVG_WIND_DIRECTION_10M_DEG  \\\n",
       "0                     2.3                           2   \n",
       "1                     0.9                          80   \n",
       "2                    -2.2                        -224   \n",
       "3                     0.6                         -79   \n",
       "4                    -0.7                         -65   \n",
       "\n",
       "   AVG_WIND_DIRECTION_80M_DEG  AVG_WIND_DIRECTION_100M_DEG  \\\n",
       "0                          -5                           -6   \n",
       "1                          72                           73   \n",
       "2                        -231                         -229   \n",
       "3                         -78                          -76   \n",
       "4                         -73                          -72   \n",
       "\n",
       "   TOT_PRECIPITATION_IN  TOT_SNOWFALL_IN  AVG_CLOUD_COVER_TOT_PCT  \\\n",
       "0                 -0.12            -0.88                      -30   \n",
       "1                 -0.12            -0.76                        7   \n",
       "2                 -0.12            -0.75                      -37   \n",
       "3                 -0.12            -0.87                       -6   \n",
       "4                 -0.13            -0.88                      -24   \n",
       "\n",
       "   AVG_RADIATION_SOLAR_TOTAL_WPM2  TOT_RADIATION_SOLAR_TOTAL_WPM2  \n",
       "0                           -14.9                          -356.6  \n",
       "1                             1.9                            46.3  \n",
       "2                            45.1                          1083.9  \n",
       "3                             4.1                            97.2  \n",
       "4                            31.0                           745.4  \n",
       "\n",
       "[5 rows x 22 columns]"
      ]
     },
     "execution_count": 81,
     "metadata": {},
     "output_type": "execute_result"
    }
   ],
   "source": [
    "training_data.head()"
   ]
  },
  {
   "cell_type": "code",
   "execution_count": 76,
   "id": "47350a2d",
   "metadata": {},
   "outputs": [],
   "source": [
    "store = 1"
   ]
  },
  {
   "cell_type": "code",
   "execution_count": 88,
   "id": "4930b1ef",
   "metadata": {},
   "outputs": [
    {
     "name": "stdout",
     "output_type": "stream",
     "text": [
      "1636\n"
     ]
    }
   ],
   "source": [
    "store_data = training_data.copy()\n",
    "store_data = store_data[store_data[\"SCRUB_STORE_NO\"] == store]\n",
    "l = temp.shape[0]\n",
    "print(l)\n",
    "\n",
    "min_date = store_data[\"TIME_DIM_KEY\"].min()\n",
    "vals = list()\n",
    "\n",
    "for i in range(l):\n",
    "    datestamp = store_data.iloc[i,3]\n",
    "    time_idx = datestamp - min_date + 1\n",
    "    vals.append(time_idx)\n",
    "\n",
    "store_data[\"time_idx\"] = vals"
   ]
  },
  {
   "cell_type": "code",
   "execution_count": 92,
   "id": "ea9ea15c",
   "metadata": {},
   "outputs": [
    {
     "ename": "ValueError",
     "evalue": "Of the four parameters: start, end, periods, and freq, exactly three must be specified",
     "output_type": "error",
     "traceback": [
      "\u001b[0;31m---------------------------------------------------------------------------\u001b[0m",
      "\u001b[0;31mValueError\u001b[0m                                Traceback (most recent call last)",
      "\u001b[0;32m<ipython-input-92-393ef022f62f>\u001b[0m in \u001b[0;36m<module>\u001b[0;34m\u001b[0m\n\u001b[0;32m----> 1\u001b[0;31m \u001b[0mpd\u001b[0m\u001b[0;34m.\u001b[0m\u001b[0mdate_range\u001b[0m\u001b[0;34m(\u001b[0m\u001b[0mtraining_data\u001b[0m\u001b[0;34m[\u001b[0m\u001b[0;34m\"DATE_VALID_STD\"\u001b[0m\u001b[0;34m]\u001b[0m\u001b[0;34m)\u001b[0m\u001b[0;34m\u001b[0m\u001b[0;34m\u001b[0m\u001b[0m\n\u001b[0m",
      "\u001b[0;32m/home/saketh/snap/jupyter/common/lib/python3.7/site-packages/pandas/core/indexes/datetimes.py\u001b[0m in \u001b[0;36mdate_range\u001b[0;34m(start, end, periods, freq, tz, normalize, name, closed, **kwargs)\u001b[0m\n\u001b[1;32m   1103\u001b[0m         \u001b[0mnormalize\u001b[0m\u001b[0;34m=\u001b[0m\u001b[0mnormalize\u001b[0m\u001b[0;34m,\u001b[0m\u001b[0;34m\u001b[0m\u001b[0;34m\u001b[0m\u001b[0m\n\u001b[1;32m   1104\u001b[0m         \u001b[0mclosed\u001b[0m\u001b[0;34m=\u001b[0m\u001b[0mclosed\u001b[0m\u001b[0;34m,\u001b[0m\u001b[0;34m\u001b[0m\u001b[0;34m\u001b[0m\u001b[0m\n\u001b[0;32m-> 1105\u001b[0;31m         \u001b[0;34m**\u001b[0m\u001b[0mkwargs\u001b[0m\u001b[0;34m,\u001b[0m\u001b[0;34m\u001b[0m\u001b[0;34m\u001b[0m\u001b[0m\n\u001b[0m\u001b[1;32m   1106\u001b[0m     )\n\u001b[1;32m   1107\u001b[0m     \u001b[0;32mreturn\u001b[0m \u001b[0mDatetimeIndex\u001b[0m\u001b[0;34m.\u001b[0m\u001b[0m_simple_new\u001b[0m\u001b[0;34m(\u001b[0m\u001b[0mdtarr\u001b[0m\u001b[0;34m,\u001b[0m \u001b[0mname\u001b[0m\u001b[0;34m=\u001b[0m\u001b[0mname\u001b[0m\u001b[0;34m)\u001b[0m\u001b[0;34m\u001b[0m\u001b[0;34m\u001b[0m\u001b[0m\n",
      "\u001b[0;32m/home/saketh/snap/jupyter/common/lib/python3.7/site-packages/pandas/core/arrays/datetimes.py\u001b[0m in \u001b[0;36m_generate_range\u001b[0;34m(cls, start, end, periods, freq, tz, normalize, ambiguous, nonexistent, closed)\u001b[0m\n\u001b[1;32m    401\u001b[0m         \u001b[0;32mif\u001b[0m \u001b[0mcom\u001b[0m\u001b[0;34m.\u001b[0m\u001b[0mcount_not_none\u001b[0m\u001b[0;34m(\u001b[0m\u001b[0mstart\u001b[0m\u001b[0;34m,\u001b[0m \u001b[0mend\u001b[0m\u001b[0;34m,\u001b[0m \u001b[0mperiods\u001b[0m\u001b[0;34m,\u001b[0m \u001b[0mfreq\u001b[0m\u001b[0;34m)\u001b[0m \u001b[0;34m!=\u001b[0m \u001b[0;36m3\u001b[0m\u001b[0;34m:\u001b[0m\u001b[0;34m\u001b[0m\u001b[0;34m\u001b[0m\u001b[0m\n\u001b[1;32m    402\u001b[0m             raise ValueError(\n\u001b[0;32m--> 403\u001b[0;31m                 \u001b[0;34m\"Of the four parameters: start, end, periods, \"\u001b[0m\u001b[0;34m\u001b[0m\u001b[0;34m\u001b[0m\u001b[0m\n\u001b[0m\u001b[1;32m    404\u001b[0m                 \u001b[0;34m\"and freq, exactly three must be specified\"\u001b[0m\u001b[0;34m\u001b[0m\u001b[0;34m\u001b[0m\u001b[0m\n\u001b[1;32m    405\u001b[0m             )\n",
      "\u001b[0;31mValueError\u001b[0m: Of the four parameters: start, end, periods, and freq, exactly three must be specified"
     ]
    }
   ],
   "source": [
    "training_data[\"DATE_VALID_STD\"]"
   ]
  },
  {
   "cell_type": "code",
   "execution_count": null,
   "id": "f23fb84e",
   "metadata": {},
   "outputs": [],
   "source": []
  }
 ],
 "metadata": {
  "kernelspec": {
   "display_name": "Python 3",
   "language": "python",
   "name": "python3"
  },
  "language_info": {
   "codemirror_mode": {
    "name": "ipython",
    "version": 3
   },
   "file_extension": ".py",
   "mimetype": "text/x-python",
   "name": "python",
   "nbconvert_exporter": "python",
   "pygments_lexer": "ipython3",
   "version": "3.7.3"
  }
 },
 "nbformat": 4,
 "nbformat_minor": 5
}
