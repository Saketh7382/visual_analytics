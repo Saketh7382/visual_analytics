{
 "cells": [
  {
   "cell_type": "code",
   "execution_count": 1,
   "id": "257193d1",
   "metadata": {},
   "outputs": [],
   "source": [
    "import numpy as np\n",
    "import pandas as pd\n",
    "from matplotlib import pyplot as plt"
   ]
  },
  {
   "cell_type": "code",
   "execution_count": 4,
   "id": "a7412039",
   "metadata": {},
   "outputs": [],
   "source": [
    "from pathlib import Path"
   ]
  },
  {
   "cell_type": "code",
   "execution_count": null,
   "id": "9e4d48d5",
   "metadata": {
    "scrolled": true
   },
   "outputs": [],
   "source": [
    "from sklearn.preprocessing import StandardScaler, MinMaxScaler\n",
    "import torch #pytorch\n",
    "import torch.nn as nn\n",
    "from torch.autograd import Variable "
   ]
  },
  {
   "cell_type": "code",
   "execution_count": 2,
   "id": "66e1c0b7",
   "metadata": {},
   "outputs": [],
   "source": [
    "dataset = pd.read_excel(\"./datasets/historic-sales.xlsx\")"
   ]
  },
  {
   "cell_type": "code",
   "execution_count": 3,
   "id": "14c7f25e",
   "metadata": {
    "scrolled": true
   },
   "outputs": [],
   "source": [
    "dataset = dataset.fillna(0)"
   ]
  },
  {
   "cell_type": "code",
   "execution_count": 6,
   "id": "a3209475",
   "metadata": {},
   "outputs": [
    {
     "data": {
      "text/html": [
       "<div>\n",
       "<style scoped>\n",
       "    .dataframe tbody tr th:only-of-type {\n",
       "        vertical-align: middle;\n",
       "    }\n",
       "\n",
       "    .dataframe tbody tr th {\n",
       "        vertical-align: top;\n",
       "    }\n",
       "\n",
       "    .dataframe thead th {\n",
       "        text-align: right;\n",
       "    }\n",
       "</style>\n",
       "<table border=\"1\" class=\"dataframe\">\n",
       "  <thead>\n",
       "    <tr style=\"text-align: right;\">\n",
       "      <th></th>\n",
       "      <th>Unnamed: 0</th>\n",
       "      <th>TIME_DIM_KEY</th>\n",
       "      <th>SCRUB_STORE_NO</th>\n",
       "      <th>SALES_UNITS</th>\n",
       "      <th>unique_ID</th>\n",
       "      <th>DOY_STD</th>\n",
       "      <th>MIN_TEMPERATURE_AIR_2M_F</th>\n",
       "      <th>AVG_TEMPERATURE_AIR_2M_F</th>\n",
       "      <th>MAX_TEMPERATURE_AIR_2M_F</th>\n",
       "      <th>MIN_TEMPERATURE_WETBULB_2M_F</th>\n",
       "      <th>...</th>\n",
       "      <th>TOT_PRECIPITATION_IN</th>\n",
       "      <th>TOT_SNOWFALL_IN</th>\n",
       "      <th>TOT_SNOWDEPTH_IN</th>\n",
       "      <th>MIN_CLOUD_COVER_TOT_PCT</th>\n",
       "      <th>AVG_CLOUD_COVER_TOT_PCT</th>\n",
       "      <th>MAX_CLOUD_COVER_TOT_PCT</th>\n",
       "      <th>MIN_RADIATION_SOLAR_TOTAL_WPM2</th>\n",
       "      <th>AVG_RADIATION_SOLAR_TOTAL_WPM2</th>\n",
       "      <th>MAX_RADIATION_SOLAR_TOTAL_WPM2</th>\n",
       "      <th>TOT_RADIATION_SOLAR_TOTAL_WPM2</th>\n",
       "    </tr>\n",
       "  </thead>\n",
       "  <tbody>\n",
       "    <tr>\n",
       "      <th>0</th>\n",
       "      <td>0</td>\n",
       "      <td>20160102</td>\n",
       "      <td>1</td>\n",
       "      <td>759</td>\n",
       "      <td>20160102-1</td>\n",
       "      <td>2</td>\n",
       "      <td>26.5</td>\n",
       "      <td>30.4</td>\n",
       "      <td>34.5</td>\n",
       "      <td>25.1</td>\n",
       "      <td>...</td>\n",
       "      <td>0.0</td>\n",
       "      <td>0.0</td>\n",
       "      <td>16.1</td>\n",
       "      <td>0</td>\n",
       "      <td>57</td>\n",
       "      <td>100</td>\n",
       "      <td>0</td>\n",
       "      <td>32.3</td>\n",
       "      <td>132.0</td>\n",
       "      <td>776.0</td>\n",
       "    </tr>\n",
       "    <tr>\n",
       "      <th>1</th>\n",
       "      <td>1</td>\n",
       "      <td>20160103</td>\n",
       "      <td>1</td>\n",
       "      <td>486</td>\n",
       "      <td>20160103-1</td>\n",
       "      <td>3</td>\n",
       "      <td>26.0</td>\n",
       "      <td>29.1</td>\n",
       "      <td>31.6</td>\n",
       "      <td>24.5</td>\n",
       "      <td>...</td>\n",
       "      <td>0.0</td>\n",
       "      <td>0.0</td>\n",
       "      <td>15.4</td>\n",
       "      <td>73</td>\n",
       "      <td>94</td>\n",
       "      <td>100</td>\n",
       "      <td>0</td>\n",
       "      <td>49.6</td>\n",
       "      <td>236.0</td>\n",
       "      <td>1190.0</td>\n",
       "    </tr>\n",
       "    <tr>\n",
       "      <th>2</th>\n",
       "      <td>2</td>\n",
       "      <td>20160104</td>\n",
       "      <td>1</td>\n",
       "      <td>326</td>\n",
       "      <td>20160104-1</td>\n",
       "      <td>4</td>\n",
       "      <td>8.3</td>\n",
       "      <td>19.2</td>\n",
       "      <td>25.7</td>\n",
       "      <td>7.9</td>\n",
       "      <td>...</td>\n",
       "      <td>0.0</td>\n",
       "      <td>0.0</td>\n",
       "      <td>15.5</td>\n",
       "      <td>11</td>\n",
       "      <td>50</td>\n",
       "      <td>94</td>\n",
       "      <td>0</td>\n",
       "      <td>93.2</td>\n",
       "      <td>415.0</td>\n",
       "      <td>2238.0</td>\n",
       "    </tr>\n",
       "    <tr>\n",
       "      <th>3</th>\n",
       "      <td>3</td>\n",
       "      <td>20160105</td>\n",
       "      <td>1</td>\n",
       "      <td>395</td>\n",
       "      <td>20160105-1</td>\n",
       "      <td>5</td>\n",
       "      <td>6.2</td>\n",
       "      <td>19.1</td>\n",
       "      <td>28.7</td>\n",
       "      <td>6.0</td>\n",
       "      <td>...</td>\n",
       "      <td>0.0</td>\n",
       "      <td>0.0</td>\n",
       "      <td>15.3</td>\n",
       "      <td>19</td>\n",
       "      <td>81</td>\n",
       "      <td>99</td>\n",
       "      <td>0</td>\n",
       "      <td>52.6</td>\n",
       "      <td>214.0</td>\n",
       "      <td>1262.0</td>\n",
       "    </tr>\n",
       "    <tr>\n",
       "      <th>4</th>\n",
       "      <td>4</td>\n",
       "      <td>20160106</td>\n",
       "      <td>1</td>\n",
       "      <td>478</td>\n",
       "      <td>20160106-1</td>\n",
       "      <td>6</td>\n",
       "      <td>24.7</td>\n",
       "      <td>29.6</td>\n",
       "      <td>35.7</td>\n",
       "      <td>23.7</td>\n",
       "      <td>...</td>\n",
       "      <td>0.0</td>\n",
       "      <td>0.0</td>\n",
       "      <td>15.2</td>\n",
       "      <td>0</td>\n",
       "      <td>63</td>\n",
       "      <td>100</td>\n",
       "      <td>0</td>\n",
       "      <td>80.3</td>\n",
       "      <td>383.0</td>\n",
       "      <td>1928.0</td>\n",
       "    </tr>\n",
       "  </tbody>\n",
       "</table>\n",
       "<p>5 rows × 61 columns</p>\n",
       "</div>"
      ],
      "text/plain": [
       "   Unnamed: 0  TIME_DIM_KEY  SCRUB_STORE_NO  SALES_UNITS   unique_ID  DOY_STD  \\\n",
       "0           0      20160102               1          759  20160102-1        2   \n",
       "1           1      20160103               1          486  20160103-1        3   \n",
       "2           2      20160104               1          326  20160104-1        4   \n",
       "3           3      20160105               1          395  20160105-1        5   \n",
       "4           4      20160106               1          478  20160106-1        6   \n",
       "\n",
       "   MIN_TEMPERATURE_AIR_2M_F  AVG_TEMPERATURE_AIR_2M_F  \\\n",
       "0                      26.5                      30.4   \n",
       "1                      26.0                      29.1   \n",
       "2                       8.3                      19.2   \n",
       "3                       6.2                      19.1   \n",
       "4                      24.7                      29.6   \n",
       "\n",
       "   MAX_TEMPERATURE_AIR_2M_F  MIN_TEMPERATURE_WETBULB_2M_F  ...  \\\n",
       "0                      34.5                          25.1  ...   \n",
       "1                      31.6                          24.5  ...   \n",
       "2                      25.7                           7.9  ...   \n",
       "3                      28.7                           6.0  ...   \n",
       "4                      35.7                          23.7  ...   \n",
       "\n",
       "   TOT_PRECIPITATION_IN  TOT_SNOWFALL_IN  TOT_SNOWDEPTH_IN  \\\n",
       "0                   0.0              0.0              16.1   \n",
       "1                   0.0              0.0              15.4   \n",
       "2                   0.0              0.0              15.5   \n",
       "3                   0.0              0.0              15.3   \n",
       "4                   0.0              0.0              15.2   \n",
       "\n",
       "   MIN_CLOUD_COVER_TOT_PCT  AVG_CLOUD_COVER_TOT_PCT  MAX_CLOUD_COVER_TOT_PCT  \\\n",
       "0                        0                       57                      100   \n",
       "1                       73                       94                      100   \n",
       "2                       11                       50                       94   \n",
       "3                       19                       81                       99   \n",
       "4                        0                       63                      100   \n",
       "\n",
       "   MIN_RADIATION_SOLAR_TOTAL_WPM2  AVG_RADIATION_SOLAR_TOTAL_WPM2  \\\n",
       "0                               0                            32.3   \n",
       "1                               0                            49.6   \n",
       "2                               0                            93.2   \n",
       "3                               0                            52.6   \n",
       "4                               0                            80.3   \n",
       "\n",
       "   MAX_RADIATION_SOLAR_TOTAL_WPM2  TOT_RADIATION_SOLAR_TOTAL_WPM2  \n",
       "0                           132.0                           776.0  \n",
       "1                           236.0                          1190.0  \n",
       "2                           415.0                          2238.0  \n",
       "3                           214.0                          1262.0  \n",
       "4                           383.0                          1928.0  \n",
       "\n",
       "[5 rows x 61 columns]"
      ]
     },
     "execution_count": 6,
     "metadata": {},
     "output_type": "execute_result"
    }
   ],
   "source": [
    "dataset.head()"
   ]
  },
  {
   "cell_type": "code",
   "execution_count": 8,
   "id": "26abd784",
   "metadata": {},
   "outputs": [],
   "source": [
    "if not Path(\"./datasets/historic-sales.csv\").is_file():\n",
    "    dataset.iloc[:,1:].to_csv(\"./datasets/historic-sales.csv\",index=False)"
   ]
  },
  {
   "cell_type": "code",
   "execution_count": 9,
   "id": "b0587fdf",
   "metadata": {},
   "outputs": [
    {
     "data": {
      "text/html": [
       "<div>\n",
       "<style scoped>\n",
       "    .dataframe tbody tr th:only-of-type {\n",
       "        vertical-align: middle;\n",
       "    }\n",
       "\n",
       "    .dataframe tbody tr th {\n",
       "        vertical-align: top;\n",
       "    }\n",
       "\n",
       "    .dataframe thead th {\n",
       "        text-align: right;\n",
       "    }\n",
       "</style>\n",
       "<table border=\"1\" class=\"dataframe\">\n",
       "  <thead>\n",
       "    <tr style=\"text-align: right;\">\n",
       "      <th></th>\n",
       "      <th>TIME_DIM_KEY</th>\n",
       "      <th>SCRUB_STORE_NO</th>\n",
       "      <th>SALES_UNITS</th>\n",
       "      <th>unique_ID</th>\n",
       "      <th>DOY_STD</th>\n",
       "      <th>MIN_TEMPERATURE_AIR_2M_F</th>\n",
       "      <th>AVG_TEMPERATURE_AIR_2M_F</th>\n",
       "      <th>MAX_TEMPERATURE_AIR_2M_F</th>\n",
       "      <th>MIN_TEMPERATURE_WETBULB_2M_F</th>\n",
       "      <th>AVG_TEMPERATURE_WETBULB_2M_F</th>\n",
       "      <th>...</th>\n",
       "      <th>TOT_PRECIPITATION_IN</th>\n",
       "      <th>TOT_SNOWFALL_IN</th>\n",
       "      <th>TOT_SNOWDEPTH_IN</th>\n",
       "      <th>MIN_CLOUD_COVER_TOT_PCT</th>\n",
       "      <th>AVG_CLOUD_COVER_TOT_PCT</th>\n",
       "      <th>MAX_CLOUD_COVER_TOT_PCT</th>\n",
       "      <th>MIN_RADIATION_SOLAR_TOTAL_WPM2</th>\n",
       "      <th>AVG_RADIATION_SOLAR_TOTAL_WPM2</th>\n",
       "      <th>MAX_RADIATION_SOLAR_TOTAL_WPM2</th>\n",
       "      <th>TOT_RADIATION_SOLAR_TOTAL_WPM2</th>\n",
       "    </tr>\n",
       "  </thead>\n",
       "  <tbody>\n",
       "    <tr>\n",
       "      <th>0</th>\n",
       "      <td>20160102</td>\n",
       "      <td>1</td>\n",
       "      <td>759</td>\n",
       "      <td>20160102-1</td>\n",
       "      <td>2</td>\n",
       "      <td>26.5</td>\n",
       "      <td>30.4</td>\n",
       "      <td>34.5</td>\n",
       "      <td>25.1</td>\n",
       "      <td>28.7</td>\n",
       "      <td>...</td>\n",
       "      <td>0.00</td>\n",
       "      <td>0.0</td>\n",
       "      <td>16.1</td>\n",
       "      <td>0</td>\n",
       "      <td>57</td>\n",
       "      <td>100</td>\n",
       "      <td>0</td>\n",
       "      <td>32.3</td>\n",
       "      <td>132.0</td>\n",
       "      <td>776.0</td>\n",
       "    </tr>\n",
       "    <tr>\n",
       "      <th>1</th>\n",
       "      <td>20160103</td>\n",
       "      <td>1</td>\n",
       "      <td>486</td>\n",
       "      <td>20160103-1</td>\n",
       "      <td>3</td>\n",
       "      <td>26.0</td>\n",
       "      <td>29.1</td>\n",
       "      <td>31.6</td>\n",
       "      <td>24.5</td>\n",
       "      <td>27.2</td>\n",
       "      <td>...</td>\n",
       "      <td>0.00</td>\n",
       "      <td>0.0</td>\n",
       "      <td>15.4</td>\n",
       "      <td>73</td>\n",
       "      <td>94</td>\n",
       "      <td>100</td>\n",
       "      <td>0</td>\n",
       "      <td>49.6</td>\n",
       "      <td>236.0</td>\n",
       "      <td>1190.0</td>\n",
       "    </tr>\n",
       "    <tr>\n",
       "      <th>2</th>\n",
       "      <td>20160104</td>\n",
       "      <td>1</td>\n",
       "      <td>326</td>\n",
       "      <td>20160104-1</td>\n",
       "      <td>4</td>\n",
       "      <td>8.3</td>\n",
       "      <td>19.2</td>\n",
       "      <td>25.7</td>\n",
       "      <td>7.9</td>\n",
       "      <td>17.8</td>\n",
       "      <td>...</td>\n",
       "      <td>0.00</td>\n",
       "      <td>0.0</td>\n",
       "      <td>15.5</td>\n",
       "      <td>11</td>\n",
       "      <td>50</td>\n",
       "      <td>94</td>\n",
       "      <td>0</td>\n",
       "      <td>93.2</td>\n",
       "      <td>415.0</td>\n",
       "      <td>2238.0</td>\n",
       "    </tr>\n",
       "    <tr>\n",
       "      <th>3</th>\n",
       "      <td>20160105</td>\n",
       "      <td>1</td>\n",
       "      <td>395</td>\n",
       "      <td>20160105-1</td>\n",
       "      <td>5</td>\n",
       "      <td>6.2</td>\n",
       "      <td>19.1</td>\n",
       "      <td>28.7</td>\n",
       "      <td>6.0</td>\n",
       "      <td>18.0</td>\n",
       "      <td>...</td>\n",
       "      <td>0.00</td>\n",
       "      <td>0.0</td>\n",
       "      <td>15.3</td>\n",
       "      <td>19</td>\n",
       "      <td>81</td>\n",
       "      <td>99</td>\n",
       "      <td>0</td>\n",
       "      <td>52.6</td>\n",
       "      <td>214.0</td>\n",
       "      <td>1262.0</td>\n",
       "    </tr>\n",
       "    <tr>\n",
       "      <th>4</th>\n",
       "      <td>20160106</td>\n",
       "      <td>1</td>\n",
       "      <td>478</td>\n",
       "      <td>20160106-1</td>\n",
       "      <td>6</td>\n",
       "      <td>24.7</td>\n",
       "      <td>29.6</td>\n",
       "      <td>35.7</td>\n",
       "      <td>23.7</td>\n",
       "      <td>27.8</td>\n",
       "      <td>...</td>\n",
       "      <td>0.00</td>\n",
       "      <td>0.0</td>\n",
       "      <td>15.2</td>\n",
       "      <td>0</td>\n",
       "      <td>63</td>\n",
       "      <td>100</td>\n",
       "      <td>0</td>\n",
       "      <td>80.3</td>\n",
       "      <td>383.0</td>\n",
       "      <td>1928.0</td>\n",
       "    </tr>\n",
       "    <tr>\n",
       "      <th>...</th>\n",
       "      <td>...</td>\n",
       "      <td>...</td>\n",
       "      <td>...</td>\n",
       "      <td>...</td>\n",
       "      <td>...</td>\n",
       "      <td>...</td>\n",
       "      <td>...</td>\n",
       "      <td>...</td>\n",
       "      <td>...</td>\n",
       "      <td>...</td>\n",
       "      <td>...</td>\n",
       "      <td>...</td>\n",
       "      <td>...</td>\n",
       "      <td>...</td>\n",
       "      <td>...</td>\n",
       "      <td>...</td>\n",
       "      <td>...</td>\n",
       "      <td>...</td>\n",
       "      <td>...</td>\n",
       "      <td>...</td>\n",
       "      <td>...</td>\n",
       "    </tr>\n",
       "    <tr>\n",
       "      <th>31316</th>\n",
       "      <td>20210829</td>\n",
       "      <td>20</td>\n",
       "      <td>100</td>\n",
       "      <td>20210829-20</td>\n",
       "      <td>241</td>\n",
       "      <td>64.9</td>\n",
       "      <td>71.4</td>\n",
       "      <td>79.6</td>\n",
       "      <td>62.9</td>\n",
       "      <td>68.3</td>\n",
       "      <td>...</td>\n",
       "      <td>0.00</td>\n",
       "      <td>0.0</td>\n",
       "      <td>0.0</td>\n",
       "      <td>52</td>\n",
       "      <td>93</td>\n",
       "      <td>100</td>\n",
       "      <td>0</td>\n",
       "      <td>108.2</td>\n",
       "      <td>512.6</td>\n",
       "      <td>2595.7</td>\n",
       "    </tr>\n",
       "    <tr>\n",
       "      <th>31317</th>\n",
       "      <td>20210904</td>\n",
       "      <td>20</td>\n",
       "      <td>100</td>\n",
       "      <td>20210904-20</td>\n",
       "      <td>247</td>\n",
       "      <td>53.8</td>\n",
       "      <td>64.4</td>\n",
       "      <td>76.0</td>\n",
       "      <td>53.0</td>\n",
       "      <td>59.6</td>\n",
       "      <td>...</td>\n",
       "      <td>0.00</td>\n",
       "      <td>0.0</td>\n",
       "      <td>0.0</td>\n",
       "      <td>0</td>\n",
       "      <td>40</td>\n",
       "      <td>100</td>\n",
       "      <td>0</td>\n",
       "      <td>254.9</td>\n",
       "      <td>850.3</td>\n",
       "      <td>6118.7</td>\n",
       "    </tr>\n",
       "    <tr>\n",
       "      <th>31318</th>\n",
       "      <td>20210905</td>\n",
       "      <td>20</td>\n",
       "      <td>12</td>\n",
       "      <td>20210905-20</td>\n",
       "      <td>248</td>\n",
       "      <td>60.0</td>\n",
       "      <td>66.1</td>\n",
       "      <td>70.1</td>\n",
       "      <td>58.5</td>\n",
       "      <td>64.6</td>\n",
       "      <td>...</td>\n",
       "      <td>0.08</td>\n",
       "      <td>0.0</td>\n",
       "      <td>0.0</td>\n",
       "      <td>26</td>\n",
       "      <td>88</td>\n",
       "      <td>100</td>\n",
       "      <td>0</td>\n",
       "      <td>59.2</td>\n",
       "      <td>396.1</td>\n",
       "      <td>1422.2</td>\n",
       "    </tr>\n",
       "    <tr>\n",
       "      <th>31319</th>\n",
       "      <td>20210906</td>\n",
       "      <td>20</td>\n",
       "      <td>120</td>\n",
       "      <td>20210906-20</td>\n",
       "      <td>249</td>\n",
       "      <td>60.1</td>\n",
       "      <td>70.8</td>\n",
       "      <td>79.4</td>\n",
       "      <td>58.0</td>\n",
       "      <td>64.7</td>\n",
       "      <td>...</td>\n",
       "      <td>0.00</td>\n",
       "      <td>0.0</td>\n",
       "      <td>0.0</td>\n",
       "      <td>0</td>\n",
       "      <td>36</td>\n",
       "      <td>100</td>\n",
       "      <td>0</td>\n",
       "      <td>234.9</td>\n",
       "      <td>843.0</td>\n",
       "      <td>5638.0</td>\n",
       "    </tr>\n",
       "    <tr>\n",
       "      <th>31320</th>\n",
       "      <td>20210907</td>\n",
       "      <td>20</td>\n",
       "      <td>120</td>\n",
       "      <td>20210907-20</td>\n",
       "      <td>250</td>\n",
       "      <td>55.0</td>\n",
       "      <td>68.2</td>\n",
       "      <td>79.7</td>\n",
       "      <td>53.2</td>\n",
       "      <td>61.8</td>\n",
       "      <td>...</td>\n",
       "      <td>0.00</td>\n",
       "      <td>0.0</td>\n",
       "      <td>0.0</td>\n",
       "      <td>0</td>\n",
       "      <td>6</td>\n",
       "      <td>73</td>\n",
       "      <td>0</td>\n",
       "      <td>261.2</td>\n",
       "      <td>842.5</td>\n",
       "      <td>6269.4</td>\n",
       "    </tr>\n",
       "  </tbody>\n",
       "</table>\n",
       "<p>31321 rows × 60 columns</p>\n",
       "</div>"
      ],
      "text/plain": [
       "       TIME_DIM_KEY  SCRUB_STORE_NO  SALES_UNITS    unique_ID  DOY_STD  \\\n",
       "0          20160102               1          759   20160102-1        2   \n",
       "1          20160103               1          486   20160103-1        3   \n",
       "2          20160104               1          326   20160104-1        4   \n",
       "3          20160105               1          395   20160105-1        5   \n",
       "4          20160106               1          478   20160106-1        6   \n",
       "...             ...             ...          ...          ...      ...   \n",
       "31316      20210829              20          100  20210829-20      241   \n",
       "31317      20210904              20          100  20210904-20      247   \n",
       "31318      20210905              20           12  20210905-20      248   \n",
       "31319      20210906              20          120  20210906-20      249   \n",
       "31320      20210907              20          120  20210907-20      250   \n",
       "\n",
       "       MIN_TEMPERATURE_AIR_2M_F  AVG_TEMPERATURE_AIR_2M_F  \\\n",
       "0                          26.5                      30.4   \n",
       "1                          26.0                      29.1   \n",
       "2                           8.3                      19.2   \n",
       "3                           6.2                      19.1   \n",
       "4                          24.7                      29.6   \n",
       "...                         ...                       ...   \n",
       "31316                      64.9                      71.4   \n",
       "31317                      53.8                      64.4   \n",
       "31318                      60.0                      66.1   \n",
       "31319                      60.1                      70.8   \n",
       "31320                      55.0                      68.2   \n",
       "\n",
       "       MAX_TEMPERATURE_AIR_2M_F  MIN_TEMPERATURE_WETBULB_2M_F  \\\n",
       "0                          34.5                          25.1   \n",
       "1                          31.6                          24.5   \n",
       "2                          25.7                           7.9   \n",
       "3                          28.7                           6.0   \n",
       "4                          35.7                          23.7   \n",
       "...                         ...                           ...   \n",
       "31316                      79.6                          62.9   \n",
       "31317                      76.0                          53.0   \n",
       "31318                      70.1                          58.5   \n",
       "31319                      79.4                          58.0   \n",
       "31320                      79.7                          53.2   \n",
       "\n",
       "       AVG_TEMPERATURE_WETBULB_2M_F  ...  TOT_PRECIPITATION_IN  \\\n",
       "0                              28.7  ...                  0.00   \n",
       "1                              27.2  ...                  0.00   \n",
       "2                              17.8  ...                  0.00   \n",
       "3                              18.0  ...                  0.00   \n",
       "4                              27.8  ...                  0.00   \n",
       "...                             ...  ...                   ...   \n",
       "31316                          68.3  ...                  0.00   \n",
       "31317                          59.6  ...                  0.00   \n",
       "31318                          64.6  ...                  0.08   \n",
       "31319                          64.7  ...                  0.00   \n",
       "31320                          61.8  ...                  0.00   \n",
       "\n",
       "       TOT_SNOWFALL_IN  TOT_SNOWDEPTH_IN  MIN_CLOUD_COVER_TOT_PCT  \\\n",
       "0                  0.0              16.1                        0   \n",
       "1                  0.0              15.4                       73   \n",
       "2                  0.0              15.5                       11   \n",
       "3                  0.0              15.3                       19   \n",
       "4                  0.0              15.2                        0   \n",
       "...                ...               ...                      ...   \n",
       "31316              0.0               0.0                       52   \n",
       "31317              0.0               0.0                        0   \n",
       "31318              0.0               0.0                       26   \n",
       "31319              0.0               0.0                        0   \n",
       "31320              0.0               0.0                        0   \n",
       "\n",
       "       AVG_CLOUD_COVER_TOT_PCT  MAX_CLOUD_COVER_TOT_PCT  \\\n",
       "0                           57                      100   \n",
       "1                           94                      100   \n",
       "2                           50                       94   \n",
       "3                           81                       99   \n",
       "4                           63                      100   \n",
       "...                        ...                      ...   \n",
       "31316                       93                      100   \n",
       "31317                       40                      100   \n",
       "31318                       88                      100   \n",
       "31319                       36                      100   \n",
       "31320                        6                       73   \n",
       "\n",
       "       MIN_RADIATION_SOLAR_TOTAL_WPM2  AVG_RADIATION_SOLAR_TOTAL_WPM2  \\\n",
       "0                                   0                            32.3   \n",
       "1                                   0                            49.6   \n",
       "2                                   0                            93.2   \n",
       "3                                   0                            52.6   \n",
       "4                                   0                            80.3   \n",
       "...                               ...                             ...   \n",
       "31316                               0                           108.2   \n",
       "31317                               0                           254.9   \n",
       "31318                               0                            59.2   \n",
       "31319                               0                           234.9   \n",
       "31320                               0                           261.2   \n",
       "\n",
       "       MAX_RADIATION_SOLAR_TOTAL_WPM2  TOT_RADIATION_SOLAR_TOTAL_WPM2  \n",
       "0                               132.0                           776.0  \n",
       "1                               236.0                          1190.0  \n",
       "2                               415.0                          2238.0  \n",
       "3                               214.0                          1262.0  \n",
       "4                               383.0                          1928.0  \n",
       "...                               ...                             ...  \n",
       "31316                           512.6                          2595.7  \n",
       "31317                           850.3                          6118.7  \n",
       "31318                           396.1                          1422.2  \n",
       "31319                           843.0                          5638.0  \n",
       "31320                           842.5                          6269.4  \n",
       "\n",
       "[31321 rows x 60 columns]"
      ]
     },
     "execution_count": 9,
     "metadata": {},
     "output_type": "execute_result"
    }
   ],
   "source": [
    "temp = pd.read_csv(\"./datasets/historic-sales.csv\")\n",
    "temp"
   ]
  },
  {
   "cell_type": "code",
   "execution_count": 5,
   "id": "6877da52",
   "metadata": {
    "scrolled": true
   },
   "outputs": [
    {
     "name": "stdout",
     "output_type": "stream",
     "text": [
      "0 Unnamed: 0\n",
      "1 TIME_DIM_KEY\n",
      "2 SCRUB_STORE_NO\n",
      "3 SALES_UNITS\n",
      "4 unique_ID\n",
      "5 DOY_STD\n",
      "6 MIN_TEMPERATURE_AIR_2M_F\n",
      "7 AVG_TEMPERATURE_AIR_2M_F\n",
      "8 MAX_TEMPERATURE_AIR_2M_F\n",
      "9 MIN_TEMPERATURE_WETBULB_2M_F\n",
      "10 AVG_TEMPERATURE_WETBULB_2M_F\n",
      "11 MAX_TEMPERATURE_WETBULB_2M_F\n",
      "12 MIN_TEMPERATURE_DEWPOINT_2M_F\n",
      "13 AVG_TEMPERATURE_DEWPOINT_2M_F\n",
      "14 MAX_TEMPERATURE_DEWPOINT_2M_F\n",
      "15 MIN_TEMPERATURE_FEELSLIKE_2M_F\n",
      "16 AVG_TEMPERATURE_FEELSLIKE_2M_F\n",
      "17 MAX_TEMPERATURE_FEELSLIKE_2M_F\n",
      "18 MIN_TEMPERATURE_WINDCHILL_2M_F\n",
      "19 AVG_TEMPERATURE_WINDCHILL_2M_F\n",
      "20 MAX_TEMPERATURE_WINDCHILL_2M_F\n",
      "21 MIN_TEMPERATURE_HEATINDEX_2M_F\n",
      "22 AVG_TEMPERATURE_HEATINDEX_2M_F\n",
      "23 MAX_TEMPERATURE_HEATINDEX_2M_F\n",
      "24 MIN_HUMIDITY_RELATIVE_2M_PCT\n",
      "25 AVG_HUMIDITY_RELATIVE_2M_PCT\n",
      "26 MAX_HUMIDITY_RELATIVE_2M_PCT\n",
      "27 MIN_HUMIDITY_SPECIFIC_2M_GPKG\n",
      "28 AVG_HUMIDITY_SPECIFIC_2M_GPKG\n",
      "29 MAX_HUMIDITY_SPECIFIC_2M_GPKG\n",
      "30 MIN_PRESSURE_2M_MB\n",
      "31 AVG_PRESSURE_2M_MB\n",
      "32 MAX_PRESSURE_2M_MB\n",
      "33 MIN_PRESSURE_TENDENCY_2M_MB\n",
      "34 AVG_PRESSURE_TENDENCY_2M_MB\n",
      "35 MAX_PRESSURE_TENDENCY_2M_MB\n",
      "36 MIN_PRESSURE_MEAN_SEA_LEVEL_MB\n",
      "37 AVG_PRESSURE_MEAN_SEA_LEVEL_MB\n",
      "38 MAX_PRESSURE_MEAN_SEA_LEVEL_MB\n",
      "39 MIN_WIND_SPEED_10M_MPH\n",
      "40 AVG_WIND_SPEED_10M_MPH\n",
      "41 MAX_WIND_SPEED_10M_MPH\n",
      "42 AVG_WIND_DIRECTION_10M_DEG\n",
      "43 MIN_WIND_SPEED_80M_MPH\n",
      "44 AVG_WIND_SPEED_80M_MPH\n",
      "45 MAX_WIND_SPEED_80M_MPH\n",
      "46 AVG_WIND_DIRECTION_80M_DEG\n",
      "47 MIN_WIND_SPEED_100M_MPH\n",
      "48 AVG_WIND_SPEED_100M_MPH\n",
      "49 MAX_WIND_SPEED_100M_MPH\n",
      "50 AVG_WIND_DIRECTION_100M_DEG\n",
      "51 TOT_PRECIPITATION_IN\n",
      "52 TOT_SNOWFALL_IN\n",
      "53 TOT_SNOWDEPTH_IN\n",
      "54 MIN_CLOUD_COVER_TOT_PCT\n",
      "55 AVG_CLOUD_COVER_TOT_PCT\n",
      "56 MAX_CLOUD_COVER_TOT_PCT\n",
      "57 MIN_RADIATION_SOLAR_TOTAL_WPM2\n",
      "58 AVG_RADIATION_SOLAR_TOTAL_WPM2\n",
      "59 MAX_RADIATION_SOLAR_TOTAL_WPM2\n",
      "60 TOT_RADIATION_SOLAR_TOTAL_WPM2\n"
     ]
    }
   ],
   "source": [
    "cols = list(dataset.columns)\n",
    "l = len(cols)\n",
    "for i in range(l):\n",
    "    print(i, cols[i])"
   ]
  },
  {
   "cell_type": "markdown",
   "id": "bfe121c5",
   "metadata": {},
   "source": [
    "# Negleting the geographic reference of the stores"
   ]
  },
  {
   "cell_type": "code",
   "execution_count": 33,
   "id": "84b33bdf",
   "metadata": {},
   "outputs": [],
   "source": [
    "# total data\n",
    "independent_cols = (58,59)\n",
    "dependent_cols = (3,4)\n",
    "split = [0.6,0.2,0.1]"
   ]
  },
  {
   "cell_type": "code",
   "execution_count": 34,
   "id": "1d3bb028",
   "metadata": {},
   "outputs": [
    {
     "data": {
      "text/plain": [
       "(25056, 61)"
      ]
     },
     "execution_count": 34,
     "metadata": {},
     "output_type": "execute_result"
    }
   ],
   "source": [
    "train_len = int(dataset.shape[0] * split[0])\n",
    "test_len = int(dataset.shape[0] * split[1])\n",
    "\n",
    "data = dataset.iloc[:train_len+test_len,:]\n",
    "data.shape"
   ]
  },
  {
   "cell_type": "code",
   "execution_count": 35,
   "id": "9e0f1452",
   "metadata": {},
   "outputs": [],
   "source": [
    "X = data.iloc[:, independent_cols[0]:independent_cols[1]]\n",
    "y = data.iloc[:, dependent_cols[0]:dependent_cols[1]] "
   ]
  },
  {
   "cell_type": "code",
   "execution_count": 36,
   "id": "8aecca8e",
   "metadata": {},
   "outputs": [],
   "source": [
    "mm = MinMaxScaler()\n",
    "ss = StandardScaler()\n",
    "\n",
    "X_ss = ss.fit_transform(X)\n",
    "y_mm = mm.fit_transform(y)"
   ]
  },
  {
   "cell_type": "code",
   "execution_count": 37,
   "id": "99a8944a",
   "metadata": {},
   "outputs": [
    {
     "name": "stdout",
     "output_type": "stream",
     "text": [
      "Training Shape (18793, 1) (18793, 1)\n",
      "Testing Shape (6263, 1) (6263, 1)\n"
     ]
    }
   ],
   "source": [
    "X_train = X_ss[:train_len+1, :]\n",
    "X_test = X_ss[train_len+1:, :]\n",
    "\n",
    "y_train = y_mm[:train_len+1, :]\n",
    "y_test = y_mm[train_len+1:, :] \n",
    "\n",
    "print(\"Training Shape\", X_train.shape, y_train.shape)\n",
    "print(\"Testing Shape\", X_test.shape, y_test.shape) "
   ]
  },
  {
   "cell_type": "code",
   "execution_count": 38,
   "id": "e7b0e516",
   "metadata": {},
   "outputs": [],
   "source": [
    "X_train_tensors = Variable(torch.Tensor(X_train))\n",
    "X_test_tensors = Variable(torch.Tensor(X_test))\n",
    "\n",
    "y_train_tensors = Variable(torch.Tensor(y_train))\n",
    "y_test_tensors = Variable(torch.Tensor(y_test)) "
   ]
  },
  {
   "cell_type": "code",
   "execution_count": 39,
   "id": "e37498ae",
   "metadata": {},
   "outputs": [
    {
     "name": "stdout",
     "output_type": "stream",
     "text": [
      "Training Shape torch.Size([18793, 1, 1]) torch.Size([18793, 1])\n",
      "Testing Shape torch.Size([6263, 1, 1]) torch.Size([6263, 1])\n"
     ]
    }
   ],
   "source": [
    "X_train_tensors_final = torch.reshape(X_train_tensors,   (X_train_tensors.shape[0], 1, X_train_tensors.shape[1]))\n",
    "X_test_tensors_final = torch.reshape(X_test_tensors,  (X_test_tensors.shape[0], 1, X_test_tensors.shape[1])) \n",
    "\n",
    "print(\"Training Shape\", X_train_tensors_final.shape, y_train_tensors.shape)\n",
    "print(\"Testing Shape\", X_test_tensors_final.shape, y_test_tensors.shape) "
   ]
  },
  {
   "cell_type": "code",
   "execution_count": 40,
   "id": "590d1764",
   "metadata": {},
   "outputs": [],
   "source": [
    "class LSTM1(nn.Module):\n",
    "    def __init__(self, num_classes, input_size, hidden_size, num_layers, seq_length):\n",
    "        super(LSTM1, self).__init__()\n",
    "        self.num_classes = num_classes #number of classes\n",
    "        self.num_layers = num_layers #number of layers\n",
    "        self.input_size = input_size #input size\n",
    "        self.hidden_size = hidden_size #hidden state\n",
    "        self.seq_length = seq_length #sequence length\n",
    "\n",
    "        self.lstm = nn.LSTM(input_size=input_size, hidden_size=hidden_size,\n",
    "                          num_layers=num_layers, batch_first=True) #lstm\n",
    "        self.fc_1 =  nn.Linear(hidden_size, 128) #fully connected 1\n",
    "        self.fc = nn.Linear(128, num_classes) #fully connected last layer\n",
    "\n",
    "        self.relu = nn.ReLU()\n",
    "    \n",
    "    def forward(self,x):\n",
    "        h_0 = Variable(torch.zeros(self.num_layers, x.size(0), self.hidden_size)) #hidden state\n",
    "        c_0 = Variable(torch.zeros(self.num_layers, x.size(0), self.hidden_size)) #internal state\n",
    "        # Propagate input through LSTM\n",
    "        output, (hn, cn) = self.lstm(x, (h_0, c_0)) #lstm with input, hidden, and internal state\n",
    "        hn = hn.view(-1, self.hidden_size) #reshaping the data for Dense layer next\n",
    "        out = self.relu(hn)\n",
    "        out = self.fc_1(out) #first Dense\n",
    "        out = self.relu(out) #relu\n",
    "        out = self.fc(out) #Final Output\n",
    "        return out"
   ]
  },
  {
   "cell_type": "code",
   "execution_count": 43,
   "id": "62deb861",
   "metadata": {},
   "outputs": [],
   "source": [
    "num_epochs = 1000 #1000 epochs\n",
    "learning_rate = 0.01 #0.001 lr\n",
    "\n",
    "input_size = 1 #number of features\n",
    "hidden_size = 200 #number of features in hidden state\n",
    "num_layers = 1 #number of stacked lstm layers\n",
    "\n",
    "num_classes = 1 #number of output classes "
   ]
  },
  {
   "cell_type": "code",
   "execution_count": 44,
   "id": "74ea7087",
   "metadata": {},
   "outputs": [],
   "source": [
    "lstm1 = LSTM1(num_classes, input_size, hidden_size, num_layers, X_train_tensors_final.shape[1]) #our lstm class \n",
    "criterion = torch.nn.MSELoss()    # mean-squared error for regression\n",
    "optimizer = torch.optim.Adam(lstm1.parameters(), lr=learning_rate) "
   ]
  },
  {
   "cell_type": "code",
   "execution_count": 45,
   "id": "7395c04a",
   "metadata": {},
   "outputs": [
    {
     "name": "stdout",
     "output_type": "stream",
     "text": [
      "Epoch: 0, loss: 0.03006\n",
      "Epoch: 100, loss: 0.00196\n",
      "Epoch: 200, loss: 0.00195\n",
      "Epoch: 300, loss: 0.00195\n",
      "Epoch: 400, loss: 0.00195\n",
      "Epoch: 500, loss: 0.00195\n",
      "Epoch: 600, loss: 0.00195\n",
      "Epoch: 700, loss: 0.00195\n",
      "Epoch: 800, loss: 0.00195\n",
      "Epoch: 900, loss: 0.00195\n"
     ]
    }
   ],
   "source": [
    "for epoch in range(num_epochs):\n",
    "    outputs = lstm1.forward(X_train_tensors_final) #forward pass\n",
    "    optimizer.zero_grad() #caluclate the gradient, manually setting to 0\n",
    "\n",
    "    # obtain the loss function\n",
    "    loss = criterion(outputs, y_train_tensors)\n",
    "\n",
    "    loss.backward() #calculates the loss of the loss function\n",
    "\n",
    "    optimizer.step() #improve from loss, i.e backprop\n",
    "    if epoch % 100 == 0:\n",
    "        print(\"Epoch: %d, loss: %1.5f\" % (epoch, loss.item())) "
   ]
  },
  {
   "cell_type": "code",
   "execution_count": 184,
   "id": "85c2ce25",
   "metadata": {},
   "outputs": [],
   "source": [
    "X_val = dataset.iloc[train_len+test_len:, independent_cols[0]:independent_cols[1]]\n",
    "y_val = dataset.iloc[train_len+test_len:, dependent_cols[0]:dependent_cols[1]] \n",
    "\n",
    "df_X_ss = ss.transform(X_val) #old transformers\n",
    "df_y_mm = mm.transform(y_val) #old transformers\n",
    "\n",
    "df_X_ss = ss.transform(dataset.iloc[:, independent_cols[0]:independent_cols[1]]) #old transformers\n",
    "df_y_mm = mm.transform(dataset.iloc[:, dependent_cols[0]:dependent_cols[1]]) #old transformers\n",
    "\n",
    "df_X_ss = Variable(torch.Tensor(df_X_ss)) #converting to Tensors\n",
    "df_y_mm = Variable(torch.Tensor(df_y_mm))\n",
    "#reshaping the dataset\n",
    "df_X_ss = torch.reshape(df_X_ss, (df_X_ss.shape[0], 1, df_X_ss.shape[1])) "
   ]
  },
  {
   "cell_type": "code",
   "execution_count": 194,
   "id": "b213cc90",
   "metadata": {},
   "outputs": [],
   "source": [
    "def smooth(y, box_pts=20):\n",
    "    box = np.ones(box_pts)/box_pts\n",
    "    y_smooth = np.convolve(y, box, mode='same')\n",
    "    return y_smooth"
   ]
  },
  {
   "cell_type": "code",
   "execution_count": 199,
   "id": "f07c1b41",
   "metadata": {
    "scrolled": true
   },
   "outputs": [
    {
     "data": {
      "image/png": "[encoded data removed]",
      "text/plain": [
       "<Figure size 720x432 with 1 Axes>"
      ]
     },
     "metadata": {
      "needs_background": "light"
     },
     "output_type": "display_data"
    }
   ],
   "source": [
    "train_predict = lstm1(df_X_ss)#forward pass\n",
    "data_predict = train_predict.data.numpy() #numpy conversion\n",
    "dataY_plot = df_y_mm.data.numpy()\n",
    "\n",
    "data_predict = mm.inverse_transform(data_predict) #reverse transformation\n",
    "dataY_plot = mm.inverse_transform(dataY_plot)\n",
    "plt.figure(figsize=(10,6)) #plotting\n",
    "plt.axvline(x=train_len+test_len, c='r', linestyle='--') #size of the training set\n",
    "\n",
    "\n",
    "plt.plot(smooth(data_predict[:,0],1000), label='Predicted Data') #predicted plot\n",
    "plt.plot(smooth(dataY_plot[:,0],1000), label='Actuall Data') #actual plot\n",
    "plt.title('Time-Series Prediction')\n",
    "plt.legend()\n",
    "plt.show() "
   ]
  },
  {
   "cell_type": "code",
   "execution_count": 196,
   "id": "200e3225",
   "metadata": {},
   "outputs": [
    {
     "data": {
      "text/plain": [
       "(31321, 1)"
      ]
     },
     "execution_count": 196,
     "metadata": {},
     "output_type": "execute_result"
    }
   ],
   "source": [
    "data_predict.shape"
   ]
  },
  {
   "cell_type": "code",
   "execution_count": 189,
   "id": "b595a797",
   "metadata": {},
   "outputs": [
    {
     "data": {
      "text/plain": [
       "array([[759.00006 ],\n",
       "       [485.99997 ],\n",
       "       [325.99997 ],\n",
       "       ...,\n",
       "       [ 11.999992],\n",
       "       [120.00002 ],\n",
       "       [120.00002 ]], dtype=float32)"
      ]
     },
     "execution_count": 189,
     "metadata": {},
     "output_type": "execute_result"
    }
   ],
   "source": [
    "dataY_plot"
   ]
  },
  {
   "cell_type": "markdown",
   "id": "59c3259e",
   "metadata": {},
   "source": [
    "# Analysis on particular store"
   ]
  },
  {
   "cell_type": "code",
   "execution_count": 19,
   "id": "498ba07d",
   "metadata": {},
   "outputs": [],
   "source": [
    "store_no = 1\n",
    "independent_cols = (58,59)\n",
    "dependent_cols = (3,4)\n",
    "split = [0.6,0.3,0.1]"
   ]
  },
  {
   "cell_type": "code",
   "execution_count": 20,
   "id": "fc5d08df",
   "metadata": {},
   "outputs": [
    {
     "data": {
      "text/plain": [
       "(1471, 61)"
      ]
     },
     "execution_count": 20,
     "metadata": {},
     "output_type": "execute_result"
    }
   ],
   "source": [
    "train_len = int(dataset[dataset[\"SCRUB_STORE_NO\"]==store_no].shape[0] * split[0])\n",
    "test_len = int(dataset[dataset[\"SCRUB_STORE_NO\"]==store_no].shape[0] * split[1])\n",
    "\n",
    "data = dataset[dataset[\"SCRUB_STORE_NO\"]==store_no].iloc[:train_len+test_len,:]\n",
    "data.shape"
   ]
  },
  {
   "cell_type": "code",
   "execution_count": 21,
   "id": "47fcb2d6",
   "metadata": {},
   "outputs": [],
   "source": [
    "X = data.iloc[:, independent_cols[0]:independent_cols[1]]\n",
    "y = data.iloc[:, dependent_cols[0]:dependent_cols[1]] "
   ]
  },
  {
   "cell_type": "code",
   "execution_count": 22,
   "id": "6be7ccda",
   "metadata": {},
   "outputs": [],
   "source": [
    "mm = MinMaxScaler()\n",
    "ss = StandardScaler()\n",
    "\n",
    "X_ss = ss.fit_transform(X)\n",
    "y_mm = mm.fit_transform(y)"
   ]
  },
  {
   "cell_type": "code",
   "execution_count": 23,
   "id": "0c669bfc",
   "metadata": {},
   "outputs": [
    {
     "name": "stdout",
     "output_type": "stream",
     "text": [
      "Training Shape (982, 1) (982, 1)\n",
      "Testing Shape (489, 1) (489, 1)\n"
     ]
    }
   ],
   "source": [
    "X_train = X_ss[:train_len+1, :]\n",
    "X_test = X_ss[train_len+1:, :]\n",
    "\n",
    "y_train = y_mm[:train_len+1, :]\n",
    "y_test = y_mm[train_len+1:, :] \n",
    "\n",
    "print(\"Training Shape\", X_train.shape, y_train.shape)\n",
    "print(\"Testing Shape\", X_test.shape, y_test.shape) "
   ]
  },
  {
   "cell_type": "code",
   "execution_count": 24,
   "id": "5ed6d5a3",
   "metadata": {},
   "outputs": [],
   "source": [
    "X_train_tensors = Variable(torch.Tensor(X_train))\n",
    "X_test_tensors = Variable(torch.Tensor(X_test))\n",
    "\n",
    "y_train_tensors = Variable(torch.Tensor(y_train))\n",
    "y_test_tensors = Variable(torch.Tensor(y_test)) "
   ]
  },
  {
   "cell_type": "code",
   "execution_count": 25,
   "id": "c58fb9a9",
   "metadata": {},
   "outputs": [
    {
     "name": "stdout",
     "output_type": "stream",
     "text": [
      "Training Shape torch.Size([982, 1, 1]) torch.Size([982, 1])\n",
      "Testing Shape torch.Size([489, 1, 1]) torch.Size([489, 1])\n"
     ]
    }
   ],
   "source": [
    "X_train_tensors_final = torch.reshape(X_train_tensors,   (X_train_tensors.shape[0], 1, X_train_tensors.shape[1]))\n",
    "X_test_tensors_final = torch.reshape(X_test_tensors,  (X_test_tensors.shape[0], 1, X_test_tensors.shape[1])) \n",
    "\n",
    "print(\"Training Shape\", X_train_tensors_final.shape, y_train_tensors.shape)\n",
    "print(\"Testing Shape\", X_test_tensors_final.shape, y_test_tensors.shape) "
   ]
  },
  {
   "cell_type": "code",
   "execution_count": 26,
   "id": "7928063b",
   "metadata": {},
   "outputs": [],
   "source": [
    "class LSTM1(nn.Module):\n",
    "    def __init__(self, num_classes, input_size, hidden_size, num_layers, seq_length):\n",
    "        super(LSTM1, self).__init__()\n",
    "        self.num_classes = num_classes #number of classes\n",
    "        self.num_layers = num_layers #number of layers\n",
    "        self.input_size = input_size #input size\n",
    "        self.hidden_size = hidden_size #hidden state\n",
    "        self.seq_length = seq_length #sequence length\n",
    "\n",
    "        self.lstm = nn.LSTM(input_size=input_size, hidden_size=hidden_size,\n",
    "                          num_layers=num_layers, batch_first=True) #lstm\n",
    "        self.fc_1 =  nn.Linear(hidden_size, 128) #fully connected 1\n",
    "        self.fc = nn.Linear(128, num_classes) #fully connected last layer\n",
    "\n",
    "        self.relu = nn.ReLU()\n",
    "    \n",
    "    def forward(self,x):\n",
    "        h_0 = Variable(torch.zeros(self.num_layers, x.size(0), self.hidden_size)) #hidden state\n",
    "        c_0 = Variable(torch.zeros(self.num_layers, x.size(0), self.hidden_size)) #internal state\n",
    "        # Propagate input through LSTM\n",
    "        output, (hn, cn) = self.lstm(x, (h_0, c_0)) #lstm with input, hidden, and internal state\n",
    "        hn = hn.view(-1, self.hidden_size) #reshaping the data for Dense layer next\n",
    "        out = self.relu(hn)\n",
    "        out = self.fc_1(out) #first Dense\n",
    "        out = self.relu(out) #relu\n",
    "        out = self.fc(out) #Final Output\n",
    "        return out"
   ]
  },
  {
   "cell_type": "code",
   "execution_count": 27,
   "id": "27440b03",
   "metadata": {},
   "outputs": [],
   "source": [
    "num_epochs = 1000 #1000 epochs\n",
    "learning_rate = 0.01 #0.001 lr\n",
    "\n",
    "input_size = X_train.shape[1] #number of features\n",
    "hidden_size = 200 #number of features in hidden state\n",
    "num_layers = 1 #number of stacked lstm layers\n",
    "\n",
    "num_classes = 1 #number of output classes "
   ]
  },
  {
   "cell_type": "code",
   "execution_count": 28,
   "id": "81e274c7",
   "metadata": {},
   "outputs": [],
   "source": [
    "lstm1 = LSTM1(num_classes, input_size, hidden_size, num_layers, X_train_tensors_final.shape[1]) #our lstm class \n",
    "criterion = torch.nn.MSELoss()    # mean-squared error for regression\n",
    "optimizer = torch.optim.Adam(lstm1.parameters(), lr=learning_rate) "
   ]
  },
  {
   "cell_type": "code",
   "execution_count": 29,
   "id": "770f7f37",
   "metadata": {},
   "outputs": [
    {
     "name": "stdout",
     "output_type": "stream",
     "text": [
      "Epoch: 0, loss: 0.04360\n",
      "Epoch: 100, loss: 0.00907\n",
      "Epoch: 200, loss: 0.00902\n",
      "Epoch: 300, loss: 0.00901\n",
      "Epoch: 400, loss: 0.00901\n",
      "Epoch: 500, loss: 0.00900\n",
      "Epoch: 600, loss: 0.00900\n",
      "Epoch: 700, loss: 0.00899\n",
      "Epoch: 800, loss: 0.00899\n",
      "Epoch: 900, loss: 0.00900\n"
     ]
    }
   ],
   "source": [
    "for epoch in range(num_epochs):\n",
    "    outputs = lstm1.forward(X_train_tensors_final) #forward pass\n",
    "    optimizer.zero_grad() #caluclate the gradient, manually setting to 0\n",
    "\n",
    "    # obtain the loss function\n",
    "    loss = criterion(outputs, y_train_tensors)\n",
    "\n",
    "    loss.backward() #calculates the loss of the loss function\n",
    "\n",
    "    optimizer.step() #improve from loss, i.e backprop\n",
    "    if epoch % 100 == 0:\n",
    "        print(\"Epoch: %d, loss: %1.5f\" % (epoch, loss.item())) "
   ]
  },
  {
   "cell_type": "code",
   "execution_count": 30,
   "id": "2e12fba6",
   "metadata": {},
   "outputs": [],
   "source": [
    "X_val = dataset[dataset[\"SCRUB_STORE_NO\"]==store_no].iloc[train_len+test_len:, independent_cols[0]:independent_cols[1]]\n",
    "y_val = dataset[dataset[\"SCRUB_STORE_NO\"]==store_no].iloc[train_len+test_len:, dependent_cols[0]:dependent_cols[1]] \n",
    "\n",
    "df_X_ss = ss.transform(X_val) #old transformers\n",
    "df_y_mm = mm.transform(y_val) #old transformers\n",
    "\n",
    "df_X_ss = ss.transform(dataset[dataset[\"SCRUB_STORE_NO\"]==store_no].iloc[:, independent_cols[0]:independent_cols[1]]) #old transformers\n",
    "df_y_mm = mm.transform(dataset[dataset[\"SCRUB_STORE_NO\"]==store_no].iloc[:, dependent_cols[0]:dependent_cols[1]]) #old transformers\n",
    "\n",
    "df_X_ss = Variable(torch.Tensor(df_X_ss)) #converting to Tensors\n",
    "df_y_mm = Variable(torch.Tensor(df_y_mm))\n",
    "#reshaping the dataset\n",
    "df_X_ss = torch.reshape(df_X_ss, (df_X_ss.shape[0], 1, df_X_ss.shape[1])) "
   ]
  },
  {
   "cell_type": "code",
   "execution_count": 31,
   "id": "df6c9cb3",
   "metadata": {},
   "outputs": [],
   "source": [
    "def smooth(y, box_pts=20):\n",
    "    box = np.ones(box_pts)/box_pts\n",
    "    y_smooth = np.convolve(y, box, mode='same')\n",
    "    return y_smooth"
   ]
  },
  {
   "cell_type": "code",
   "execution_count": 32,
   "id": "a66c0e02",
   "metadata": {},
   "outputs": [
    {
     "data": {
      "image/png": "[encoded data removed]",
      "text/plain": [
       "<Figure size 720x432 with 1 Axes>"
      ]
     },
     "metadata": {
      "needs_background": "light"
     },
     "output_type": "display_data"
    }
   ],
   "source": [
    "train_predict = lstm1(df_X_ss)#forward pass\n",
    "data_predict = train_predict.data.numpy() #numpy conversion\n",
    "dataY_plot = df_y_mm.data.numpy()\n",
    "\n",
    "data_predict = mm.inverse_transform(data_predict) #reverse transformation\n",
    "dataY_plot = mm.inverse_transform(dataY_plot)\n",
    "plt.figure(figsize=(10,6)) #plotting\n",
    "plt.axvline(x=train_len+test_len, c='r', linestyle='--') #size of the training set\n",
    "\n",
    "\n",
    "plt.plot(smooth(data_predict[:,0],100), label='Predicted Data') #predicted plot\n",
    "plt.plot(smooth(dataY_plot[:,0],100), label='Actuall Data') #actual plot\n",
    "plt.title('Time-Series Prediction')\n",
    "plt.legend()\n",
    "plt.show() "
   ]
  },
  {
   "cell_type": "code",
   "execution_count": 47,
   "id": "fd309331",
   "metadata": {},
   "outputs": [
    {
     "data": {
      "text/html": [
       "<div>\n",
       "<style scoped>\n",
       "    .dataframe tbody tr th:only-of-type {\n",
       "        vertical-align: middle;\n",
       "    }\n",
       "\n",
       "    .dataframe tbody tr th {\n",
       "        vertical-align: top;\n",
       "    }\n",
       "\n",
       "    .dataframe thead th {\n",
       "        text-align: right;\n",
       "    }\n",
       "</style>\n",
       "<table border=\"1\" class=\"dataframe\">\n",
       "  <thead>\n",
       "    <tr style=\"text-align: right;\">\n",
       "      <th></th>\n",
       "      <th>SCRUB_STORE_NO</th>\n",
       "      <th>AVG_RADIATION_SOLAR_TOTAL_WPM2</th>\n",
       "    </tr>\n",
       "  </thead>\n",
       "  <tbody>\n",
       "    <tr>\n",
       "      <th>0</th>\n",
       "      <td>1</td>\n",
       "      <td>32.3</td>\n",
       "    </tr>\n",
       "    <tr>\n",
       "      <th>1</th>\n",
       "      <td>1</td>\n",
       "      <td>49.6</td>\n",
       "    </tr>\n",
       "    <tr>\n",
       "      <th>2</th>\n",
       "      <td>1</td>\n",
       "      <td>93.2</td>\n",
       "    </tr>\n",
       "    <tr>\n",
       "      <th>3</th>\n",
       "      <td>1</td>\n",
       "      <td>52.6</td>\n",
       "    </tr>\n",
       "    <tr>\n",
       "      <th>4</th>\n",
       "      <td>1</td>\n",
       "      <td>80.3</td>\n",
       "    </tr>\n",
       "    <tr>\n",
       "      <th>...</th>\n",
       "      <td>...</td>\n",
       "      <td>...</td>\n",
       "    </tr>\n",
       "    <tr>\n",
       "      <th>31316</th>\n",
       "      <td>20</td>\n",
       "      <td>108.2</td>\n",
       "    </tr>\n",
       "    <tr>\n",
       "      <th>31317</th>\n",
       "      <td>20</td>\n",
       "      <td>254.9</td>\n",
       "    </tr>\n",
       "    <tr>\n",
       "      <th>31318</th>\n",
       "      <td>20</td>\n",
       "      <td>59.2</td>\n",
       "    </tr>\n",
       "    <tr>\n",
       "      <th>31319</th>\n",
       "      <td>20</td>\n",
       "      <td>234.9</td>\n",
       "    </tr>\n",
       "    <tr>\n",
       "      <th>31320</th>\n",
       "      <td>20</td>\n",
       "      <td>261.2</td>\n",
       "    </tr>\n",
       "  </tbody>\n",
       "</table>\n",
       "<p>31321 rows × 2 columns</p>\n",
       "</div>"
      ],
      "text/plain": [
       "       SCRUB_STORE_NO  AVG_RADIATION_SOLAR_TOTAL_WPM2\n",
       "0                   1                            32.3\n",
       "1                   1                            49.6\n",
       "2                   1                            93.2\n",
       "3                   1                            52.6\n",
       "4                   1                            80.3\n",
       "...               ...                             ...\n",
       "31316              20                           108.2\n",
       "31317              20                           254.9\n",
       "31318              20                            59.2\n",
       "31319              20                           234.9\n",
       "31320              20                           261.2\n",
       "\n",
       "[31321 rows x 2 columns]"
      ]
     },
     "execution_count": 47,
     "metadata": {},
     "output_type": "execute_result"
    }
   ],
   "source": [
    "dataset[[\"SCRUB_STORE_NO\",\"AVG_RADIATION_SOLAR_TOTAL_WPM2\"]]"
   ]
  },
  {
   "cell_type": "markdown",
   "id": "04450bf0",
   "metadata": {},
   "source": [
    "# Specific Columns"
   ]
  },
  {
   "cell_type": "code",
   "execution_count": 49,
   "id": "61194256",
   "metadata": {},
   "outputs": [],
   "source": [
    "cols = list(dataset.columns)"
   ]
  },
  {
   "cell_type": "code",
   "execution_count": 50,
   "id": "0173aec9",
   "metadata": {
    "scrolled": true
   },
   "outputs": [
    {
     "data": {
      "text/plain": [
       "['Unnamed: 0',\n",
       " 'TIME_DIM_KEY',\n",
       " 'SCRUB_STORE_NO',\n",
       " 'SALES_UNITS',\n",
       " 'unique_ID',\n",
       " 'DOY_STD',\n",
       " 'MIN_TEMPERATURE_AIR_2M_F',\n",
       " 'AVG_TEMPERATURE_AIR_2M_F',\n",
       " 'MAX_TEMPERATURE_AIR_2M_F',\n",
       " 'MIN_TEMPERATURE_WETBULB_2M_F',\n",
       " 'AVG_TEMPERATURE_WETBULB_2M_F',\n",
       " 'MAX_TEMPERATURE_WETBULB_2M_F',\n",
       " 'MIN_TEMPERATURE_DEWPOINT_2M_F',\n",
       " 'AVG_TEMPERATURE_DEWPOINT_2M_F',\n",
       " 'MAX_TEMPERATURE_DEWPOINT_2M_F',\n",
       " 'MIN_TEMPERATURE_FEELSLIKE_2M_F',\n",
       " 'AVG_TEMPERATURE_FEELSLIKE_2M_F',\n",
       " 'MAX_TEMPERATURE_FEELSLIKE_2M_F',\n",
       " 'MIN_TEMPERATURE_WINDCHILL_2M_F',\n",
       " 'AVG_TEMPERATURE_WINDCHILL_2M_F',\n",
       " 'MAX_TEMPERATURE_WINDCHILL_2M_F',\n",
       " 'MIN_TEMPERATURE_HEATINDEX_2M_F',\n",
       " 'AVG_TEMPERATURE_HEATINDEX_2M_F',\n",
       " 'MAX_TEMPERATURE_HEATINDEX_2M_F',\n",
       " 'MIN_HUMIDITY_RELATIVE_2M_PCT',\n",
       " 'AVG_HUMIDITY_RELATIVE_2M_PCT',\n",
       " 'MAX_HUMIDITY_RELATIVE_2M_PCT',\n",
       " 'MIN_HUMIDITY_SPECIFIC_2M_GPKG',\n",
       " 'AVG_HUMIDITY_SPECIFIC_2M_GPKG',\n",
       " 'MAX_HUMIDITY_SPECIFIC_2M_GPKG',\n",
       " 'MIN_PRESSURE_2M_MB',\n",
       " 'AVG_PRESSURE_2M_MB',\n",
       " 'MAX_PRESSURE_2M_MB',\n",
       " 'MIN_PRESSURE_TENDENCY_2M_MB',\n",
       " 'AVG_PRESSURE_TENDENCY_2M_MB',\n",
       " 'MAX_PRESSURE_TENDENCY_2M_MB',\n",
       " 'MIN_PRESSURE_MEAN_SEA_LEVEL_MB',\n",
       " 'AVG_PRESSURE_MEAN_SEA_LEVEL_MB',\n",
       " 'MAX_PRESSURE_MEAN_SEA_LEVEL_MB',\n",
       " 'MIN_WIND_SPEED_10M_MPH',\n",
       " 'AVG_WIND_SPEED_10M_MPH',\n",
       " 'MAX_WIND_SPEED_10M_MPH',\n",
       " 'AVG_WIND_DIRECTION_10M_DEG',\n",
       " 'MIN_WIND_SPEED_80M_MPH',\n",
       " 'AVG_WIND_SPEED_80M_MPH',\n",
       " 'MAX_WIND_SPEED_80M_MPH',\n",
       " 'AVG_WIND_DIRECTION_80M_DEG',\n",
       " 'MIN_WIND_SPEED_100M_MPH',\n",
       " 'AVG_WIND_SPEED_100M_MPH',\n",
       " 'MAX_WIND_SPEED_100M_MPH',\n",
       " 'AVG_WIND_DIRECTION_100M_DEG',\n",
       " 'TOT_PRECIPITATION_IN',\n",
       " 'TOT_SNOWFALL_IN',\n",
       " 'TOT_SNOWDEPTH_IN',\n",
       " 'MIN_CLOUD_COVER_TOT_PCT',\n",
       " 'AVG_CLOUD_COVER_TOT_PCT',\n",
       " 'MAX_CLOUD_COVER_TOT_PCT',\n",
       " 'MIN_RADIATION_SOLAR_TOTAL_WPM2',\n",
       " 'AVG_RADIATION_SOLAR_TOTAL_WPM2',\n",
       " 'MAX_RADIATION_SOLAR_TOTAL_WPM2',\n",
       " 'TOT_RADIATION_SOLAR_TOTAL_WPM2']"
      ]
     },
     "execution_count": 50,
     "metadata": {},
     "output_type": "execute_result"
    }
   ],
   "source": [
    "cols"
   ]
  },
  {
   "cell_type": "code",
   "execution_count": 56,
   "id": "2d8d9611",
   "metadata": {},
   "outputs": [],
   "source": [
    "cols = ['SCRUB_STORE_NO',\n",
    "        'SALES_UNITS',\n",
    "        \"AVG_TEMPERATURE_AIR_2M_F\",\n",
    "        \"AVG_TEMPERATURE_WETBULB_2M_F\",\n",
    "        \"AVG_TEMPERATURE_DEWPOINT_2M_F\",\n",
    "        \"AVG_TEMPERATURE_FEELSLIKE_2M_F\",\n",
    "        \"AVG_TEMPERATURE_WINDCHILL_2M_F\",\n",
    "        \"AVG_TEMPERATURE_HEATINDEX_2M_F\",\n",
    "        \"AVG_RADIATION_SOLAR_TOTAL_WPM2\"\n",
    "       ]"
   ]
  },
  {
   "cell_type": "code",
   "execution_count": 59,
   "id": "a6324ded",
   "metadata": {},
   "outputs": [],
   "source": [
    "# total data\n",
    "independent_cols = cols\n",
    "dependent_cols = (0,1)\n",
    "split = [0.6,0.2,0.1]"
   ]
  },
  {
   "cell_type": "code",
   "execution_count": 60,
   "id": "91847d83",
   "metadata": {},
   "outputs": [
    {
     "data": {
      "text/plain": [
       "(25056, 9)"
      ]
     },
     "execution_count": 60,
     "metadata": {},
     "output_type": "execute_result"
    }
   ],
   "source": [
    "train_len = int(dataset[independent_cols].shape[0] * split[0])\n",
    "test_len = int(dataset[independent_cols].shape[0] * split[1])\n",
    "\n",
    "data = dataset[independent_cols].iloc[:train_len+test_len,:]\n",
    "data.shape"
   ]
  },
  {
   "cell_type": "code",
   "execution_count": 62,
   "id": "2bf6bdce",
   "metadata": {},
   "outputs": [],
   "source": [
    "X = data.iloc[:, 2:]\n",
    "y = data.iloc[:, 1:2] "
   ]
  },
  {
   "cell_type": "code",
   "execution_count": 63,
   "id": "d8380258",
   "metadata": {},
   "outputs": [],
   "source": [
    "mm = MinMaxScaler()\n",
    "ss = StandardScaler()\n",
    "\n",
    "X_ss = ss.fit_transform(X)\n",
    "y_mm = mm.fit_transform(y)"
   ]
  },
  {
   "cell_type": "code",
   "execution_count": 67,
   "id": "2915f29e",
   "metadata": {},
   "outputs": [
    {
     "name": "stdout",
     "output_type": "stream",
     "text": [
      "Training Shape (18793, 7) (18793, 1)\n",
      "Testing Shape (6263, 7) (6263, 1)\n"
     ]
    }
   ],
   "source": [
    "X_train = X_ss[:train_len+1, :]\n",
    "X_test = X_ss[train_len+1:, :]\n",
    "\n",
    "y_train = y_mm[:train_len+1, :]\n",
    "y_test = y_mm[train_len+1:, :] \n",
    "\n",
    "print(\"Training Shape\", X_train.shape, y_train.shape)\n",
    "print(\"Testing Shape\", X_test.shape, y_test.shape) "
   ]
  },
  {
   "cell_type": "code",
   "execution_count": 68,
   "id": "d656001e",
   "metadata": {},
   "outputs": [],
   "source": [
    "X_train_tensors = Variable(torch.Tensor(X_train))\n",
    "X_test_tensors = Variable(torch.Tensor(X_test))\n",
    "\n",
    "y_train_tensors = Variable(torch.Tensor(y_train))\n",
    "y_test_tensors = Variable(torch.Tensor(y_test)) "
   ]
  },
  {
   "cell_type": "code",
   "execution_count": 69,
   "id": "e37498ae",
   "metadata": {},
   "outputs": [
    {
     "name": "stdout",
     "output_type": "stream",
     "text": [
      "Training Shape torch.Size([18793, 1, 7]) torch.Size([18793, 1])\n",
      "Testing Shape torch.Size([6263, 1, 7]) torch.Size([6263, 1])\n"
     ]
    }
   ],
   "source": [
    "X_train_tensors_final = torch.reshape(X_train_tensors,   (X_train_tensors.shape[0], 1, X_train_tensors.shape[1]))\n",
    "X_test_tensors_final = torch.reshape(X_test_tensors,  (X_test_tensors.shape[0], 1, X_test_tensors.shape[1])) \n",
    "\n",
    "print(\"Training Shape\", X_train_tensors_final.shape, y_train_tensors.shape)\n",
    "print(\"Testing Shape\", X_test_tensors_final.shape, y_test_tensors.shape) "
   ]
  },
  {
   "cell_type": "code",
   "execution_count": 70,
   "id": "590d1764",
   "metadata": {},
   "outputs": [],
   "source": [
    "class LSTM1(nn.Module):\n",
    "    def __init__(self, num_classes, input_size, hidden_size, num_layers, seq_length):\n",
    "        super(LSTM1, self).__init__()\n",
    "        self.num_classes = num_classes #number of classes\n",
    "        self.num_layers = num_layers #number of layers\n",
    "        self.input_size = input_size #input size\n",
    "        self.hidden_size = hidden_size #hidden state\n",
    "        self.seq_length = seq_length #sequence length\n",
    "\n",
    "        self.lstm = nn.LSTM(input_size=input_size, hidden_size=hidden_size,\n",
    "                          num_layers=num_layers, batch_first=True) #lstm\n",
    "        self.fc_1 =  nn.Linear(hidden_size, 128) #fully connected 1\n",
    "        self.fc = nn.Linear(128, num_classes) #fully connected last layer\n",
    "\n",
    "        self.relu = nn.ReLU()\n",
    "    \n",
    "    def forward(self,x):\n",
    "        h_0 = Variable(torch.zeros(self.num_layers, x.size(0), self.hidden_size)) #hidden state\n",
    "        c_0 = Variable(torch.zeros(self.num_layers, x.size(0), self.hidden_size)) #internal state\n",
    "        # Propagate input through LSTM\n",
    "        output, (hn, cn) = self.lstm(x, (h_0, c_0)) #lstm with input, hidden, and internal state\n",
    "        hn = hn.view(-1, self.hidden_size) #reshaping the data for Dense layer next\n",
    "        out = self.relu(hn)\n",
    "        out = self.fc_1(out) #first Dense\n",
    "        out = self.relu(out) #relu\n",
    "        out = self.fc(out) #Final Output\n",
    "        return out"
   ]
  },
  {
   "cell_type": "code",
   "execution_count": 74,
   "id": "62deb861",
   "metadata": {},
   "outputs": [],
   "source": [
    "num_epochs = 1000 #1000 epochs\n",
    "learning_rate = 0.01 #0.001 lr\n",
    "\n",
    "input_size = X_train.shape[1] #number of features\n",
    "hidden_size = 200 #number of features in hidden state\n",
    "num_layers = 1 #number of stacked lstm layers\n",
    "\n",
    "num_classes = 1 #number of output classes "
   ]
  },
  {
   "cell_type": "code",
   "execution_count": 75,
   "id": "74ea7087",
   "metadata": {},
   "outputs": [],
   "source": [
    "lstm1 = LSTM1(num_classes, input_size, hidden_size, num_layers, X_train_tensors_final.shape[1]) #our lstm class \n",
    "criterion = torch.nn.MSELoss()    # mean-squared error for regression\n",
    "optimizer = torch.optim.Adam(lstm1.parameters(), lr=learning_rate) "
   ]
  },
  {
   "cell_type": "code",
   "execution_count": 76,
   "id": "7395c04a",
   "metadata": {},
   "outputs": [
    {
     "name": "stdout",
     "output_type": "stream",
     "text": [
      "Epoch: 0, loss: 0.00588\n",
      "Epoch: 100, loss: 0.00180\n",
      "Epoch: 200, loss: 0.00178\n",
      "Epoch: 300, loss: 0.00176\n",
      "Epoch: 400, loss: 0.00174\n",
      "Epoch: 500, loss: 0.00173\n",
      "Epoch: 600, loss: 0.00172\n",
      "Epoch: 700, loss: 0.00170\n",
      "Epoch: 800, loss: 0.00169\n",
      "Epoch: 900, loss: 0.00169\n"
     ]
    }
   ],
   "source": [
    "for epoch in range(num_epochs):\n",
    "    outputs = lstm1.forward(X_train_tensors_final) #forward pass\n",
    "    optimizer.zero_grad() #caluclate the gradient, manually setting to 0\n",
    "\n",
    "    # obtain the loss function\n",
    "    loss = criterion(outputs, y_train_tensors)\n",
    "\n",
    "    loss.backward() #calculates the loss of the loss function\n",
    "\n",
    "    optimizer.step() #improve from loss, i.e backprop\n",
    "    if epoch % 100 == 0:\n",
    "        print(\"Epoch: %d, loss: %1.5f\" % (epoch, loss.item())) "
   ]
  },
  {
   "cell_type": "code",
   "execution_count": 84,
   "id": "85c2ce25",
   "metadata": {},
   "outputs": [],
   "source": [
    "\n",
    "\n",
    "df_X_ss = ss.transform(dataset[independent_cols].iloc[:, 2:]) #old transformers\n",
    "df_y_mm = mm.transform(dataset[independent_cols].iloc[:, 1:2]) #old transformers\n",
    "\n",
    "df_X_ss = Variable(torch.Tensor(df_X_ss)) #converting to Tensors\n",
    "df_y_mm = Variable(torch.Tensor(df_y_mm))\n",
    "#reshaping the dataset\n",
    "df_X_ss = torch.reshape(df_X_ss, (df_X_ss.shape[0], 1, df_X_ss.shape[1])) "
   ]
  },
  {
   "cell_type": "code",
   "execution_count": 85,
   "id": "b213cc90",
   "metadata": {},
   "outputs": [],
   "source": [
    "def smooth(y, box_pts=20):\n",
    "    box = np.ones(box_pts)/box_pts\n",
    "    y_smooth = np.convolve(y, box, mode='same')\n",
    "    return y_smooth"
   ]
  },
  {
   "cell_type": "code",
   "execution_count": 86,
   "id": "f07c1b41",
   "metadata": {
    "scrolled": true
   },
   "outputs": [
    {
     "data": {
      "image/png": "[encoded data removed]",
      "text/plain": [
       "<Figure size 720x432 with 1 Axes>"
      ]
     },
     "metadata": {
      "needs_background": "light"
     },
     "output_type": "display_data"
    }
   ],
   "source": [
    "train_predict = lstm1(df_X_ss)#forward pass\n",
    "data_predict = train_predict.data.numpy() #numpy conversion\n",
    "dataY_plot = df_y_mm.data.numpy()\n",
    "\n",
    "data_predict = mm.inverse_transform(data_predict) #reverse transformation\n",
    "dataY_plot = mm.inverse_transform(dataY_plot)\n",
    "plt.figure(figsize=(10,6)) #plotting\n",
    "plt.axvline(x=train_len+test_len, c='r', linestyle='--') #size of the training set\n",
    "\n",
    "\n",
    "plt.plot(smooth(data_predict[:,0],1000), label='Predicted Data') #predicted plot\n",
    "plt.plot(smooth(dataY_plot[:,0],1000), label='Actuall Data') #actual plot\n",
    "plt.title('Time-Series Prediction')\n",
    "plt.legend()\n",
    "plt.show() "
   ]
  },
  {
   "cell_type": "code",
   "execution_count": null,
   "id": "f4324307",
   "metadata": {},
   "outputs": [],
   "source": []
  },
  {
   "cell_type": "code",
   "execution_count": null,
   "id": "96e183aa",
   "metadata": {},
   "outputs": [],
   "source": []
  },
  {
   "cell_type": "code",
   "execution_count": null,
   "id": "c0e67965",
   "metadata": {},
   "outputs": [],
   "source": []
  },
  {
   "cell_type": "code",
   "execution_count": null,
   "id": "e09c81d0",
   "metadata": {},
   "outputs": [],
   "source": []
  },
  {
   "cell_type": "code",
   "execution_count": null,
   "id": "7218944a",
   "metadata": {},
   "outputs": [],
   "source": []
  },
  {
   "cell_type": "code",
   "execution_count": null,
   "id": "5ccecefc",
   "metadata": {},
   "outputs": [],
   "source": []
  },
  {
   "cell_type": "code",
   "execution_count": null,
   "id": "de31eddd",
   "metadata": {},
   "outputs": [],
   "source": []
  },
  {
   "cell_type": "code",
   "execution_count": null,
   "id": "67d75da2",
   "metadata": {},
   "outputs": [],
   "source": []
  },
  {
   "cell_type": "code",
   "execution_count": null,
   "id": "3930613e",
   "metadata": {},
   "outputs": [],
   "source": []
  },
  {
   "cell_type": "code",
   "execution_count": null,
   "id": "73a5a984",
   "metadata": {},
   "outputs": [],
   "source": []
  },
  {
   "cell_type": "code",
   "execution_count": null,
   "id": "33c661ae",
   "metadata": {},
   "outputs": [],
   "source": []
  },
  {
   "cell_type": "code",
   "execution_count": null,
   "id": "2364ae94",
   "metadata": {},
   "outputs": [],
   "source": []
  },
  {
   "cell_type": "code",
   "execution_count": null,
   "id": "354c30d6",
   "metadata": {},
   "outputs": [],
   "source": []
  },
  {
   "cell_type": "code",
   "execution_count": null,
   "id": "d34c1165",
   "metadata": {},
   "outputs": [],
   "source": []
  },
  {
   "cell_type": "code",
   "execution_count": null,
   "id": "224ab0d1",
   "metadata": {},
   "outputs": [],
   "source": []
  },
  {
   "cell_type": "code",
   "execution_count": null,
   "id": "c8ff1f4d",
   "metadata": {},
   "outputs": [],
   "source": []
  },
  {
   "cell_type": "code",
   "execution_count": null,
   "id": "efdfd9b1",
   "metadata": {},
   "outputs": [],
   "source": []
  },
  {
   "cell_type": "code",
   "execution_count": null,
   "id": "a67451ba",
   "metadata": {},
   "outputs": [],
   "source": []
  },
  {
   "cell_type": "code",
   "execution_count": null,
   "id": "b295ee0e",
   "metadata": {},
   "outputs": [],
   "source": []
  },
  {
   "cell_type": "code",
   "execution_count": null,
   "id": "e62029c7",
   "metadata": {},
   "outputs": [],
   "source": []
  },
  {
   "cell_type": "code",
   "execution_count": null,
   "id": "f823dd5c",
   "metadata": {},
   "outputs": [],
   "source": []
  },
  {
   "cell_type": "code",
   "execution_count": null,
   "id": "423bc56d",
   "metadata": {},
   "outputs": [],
   "source": []
  },
  {
   "cell_type": "code",
   "execution_count": null,
   "id": "11212af6",
   "metadata": {},
   "outputs": [],
   "source": []
  },
  {
   "cell_type": "code",
   "execution_count": null,
   "id": "36d5179e",
   "metadata": {},
   "outputs": [],
   "source": []
  },
  {
   "cell_type": "code",
   "execution_count": null,
   "id": "c9b7af77",
   "metadata": {},
   "outputs": [],
   "source": []
  },
  {
   "cell_type": "code",
   "execution_count": null,
   "id": "99404036",
   "metadata": {},
   "outputs": [],
   "source": []
  },
  {
   "cell_type": "code",
   "execution_count": null,
   "id": "ec769c62",
   "metadata": {},
   "outputs": [],
   "source": []
  },
  {
   "cell_type": "code",
   "execution_count": null,
   "id": "b42dc0de",
   "metadata": {},
   "outputs": [],
   "source": []
  },
  {
   "cell_type": "code",
   "execution_count": null,
   "id": "931f0d34",
   "metadata": {},
   "outputs": [],
   "source": []
  },
  {
   "cell_type": "code",
   "execution_count": null,
   "id": "c24959a6",
   "metadata": {},
   "outputs": [],
   "source": []
  },
  {
   "cell_type": "code",
   "execution_count": null,
   "id": "b88d680f",
   "metadata": {},
   "outputs": [],
   "source": []
  },
  {
   "cell_type": "code",
   "execution_count": null,
   "id": "32485049",
   "metadata": {},
   "outputs": [],
   "source": []
  },
  {
   "cell_type": "code",
   "execution_count": null,
   "id": "090fff35",
   "metadata": {},
   "outputs": [],
   "source": []
  },
  {
   "cell_type": "code",
   "execution_count": null,
   "id": "cf0b88e3",
   "metadata": {},
   "outputs": [],
   "source": []
  },
  {
   "cell_type": "code",
   "execution_count": null,
   "id": "f396f71e",
   "metadata": {},
   "outputs": [],
   "source": []
  },
  {
   "cell_type": "code",
   "execution_count": null,
   "id": "2dacdcf1",
   "metadata": {},
   "outputs": [],
   "source": []
  },
  {
   "cell_type": "code",
   "execution_count": null,
   "id": "e8b6b074",
   "metadata": {},
   "outputs": [],
   "source": []
  },
  {
   "cell_type": "code",
   "execution_count": null,
   "id": "39a91aec",
   "metadata": {},
   "outputs": [],
   "source": []
  },
  {
   "cell_type": "code",
   "execution_count": null,
   "id": "f7d92a28",
   "metadata": {},
   "outputs": [],
   "source": []
  },
  {
   "cell_type": "code",
   "execution_count": null,
   "id": "1f12c78d",
   "metadata": {},
   "outputs": [],
   "source": []
  },
  {
   "cell_type": "code",
   "execution_count": null,
   "id": "3781a707",
   "metadata": {},
   "outputs": [],
   "source": []
  },
  {
   "cell_type": "code",
   "execution_count": null,
   "id": "9f80fa07",
   "metadata": {},
   "outputs": [],
   "source": []
  },
  {
   "cell_type": "code",
   "execution_count": null,
   "id": "6ec0d048",
   "metadata": {},
   "outputs": [],
   "source": []
  },
  {
   "cell_type": "code",
   "execution_count": null,
   "id": "50135484",
   "metadata": {},
   "outputs": [],
   "source": []
  },
  {
   "cell_type": "code",
   "execution_count": null,
   "id": "31b26691",
   "metadata": {},
   "outputs": [],
   "source": []
  },
  {
   "cell_type": "code",
   "execution_count": null,
   "id": "fae0f0b2",
   "metadata": {},
   "outputs": [],
   "source": []
  },
  {
   "cell_type": "code",
   "execution_count": null,
   "id": "fef51472",
   "metadata": {},
   "outputs": [],
   "source": []
  },
  {
   "cell_type": "code",
   "execution_count": null,
   "id": "aa1a4cac",
   "metadata": {},
   "outputs": [],
   "source": []
  }
 ],
 "metadata": {
  "kernelspec": {
   "display_name": "Python 3 (ipykernel)",
   "language": "python",
   "name": "python3"
  },
  "language_info": {
   "codemirror_mode": {
    "name": "ipython",
    "version": 3
   },
   "file_extension": ".py",
   "mimetype": "text/x-python",
   "name": "python",
   "nbconvert_exporter": "python",
   "pygments_lexer": "ipython3",
   "version": "3.8.10"
  }
 },
 "nbformat": 4,
 "nbformat_minor": 5
}
