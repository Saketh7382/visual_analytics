{
 "cells": [
  {
   "cell_type": "code",
   "execution_count": 1,
   "metadata": {},
   "outputs": [
    {
     "name": "stderr",
     "output_type": "stream",
     "text": [
      "/home/saketh/snap/jupyter/common/lib/python3.7/site-packages/joblib/_multiprocessing_helpers.py:45: UserWarning: [Errno 13] Permission denied.  joblib will operate in serial mode\n",
      "  warnings.warn('%s.  joblib will operate in serial mode' % (e,))\n"
     ]
    },
    {
     "ename": "ImportError",
     "evalue": "libGL.so.1: cannot open shared object file: No such file or directory",
     "output_type": "error",
     "traceback": [
      "\u001b[0;31m---------------------------------------------------------------------------\u001b[0m",
      "\u001b[0;31mImportError\u001b[0m                               Traceback (most recent call last)",
      "\u001b[0;32m<ipython-input-1-42f4493aa804>\u001b[0m in \u001b[0;36m<module>\u001b[0;34m\u001b[0m\n\u001b[1;32m      1\u001b[0m \u001b[0;32mfrom\u001b[0m \u001b[0msklearn\u001b[0m\u001b[0;34m.\u001b[0m\u001b[0mcluster\u001b[0m \u001b[0;32mimport\u001b[0m \u001b[0mKMeans\u001b[0m\u001b[0;34m\u001b[0m\u001b[0;34m\u001b[0m\u001b[0m\n\u001b[0;32m----> 2\u001b[0;31m \u001b[0;32mimport\u001b[0m \u001b[0mcv2\u001b[0m\u001b[0;34m\u001b[0m\u001b[0;34m\u001b[0m\u001b[0m\n\u001b[0m\u001b[1;32m      3\u001b[0m \u001b[0;32mimport\u001b[0m \u001b[0mmath\u001b[0m\u001b[0;34m\u001b[0m\u001b[0;34m\u001b[0m\u001b[0m\n\u001b[1;32m      4\u001b[0m \u001b[0;32mimport\u001b[0m \u001b[0mnumpy\u001b[0m \u001b[0;32mas\u001b[0m \u001b[0mnp\u001b[0m\u001b[0;34m\u001b[0m\u001b[0;34m\u001b[0m\u001b[0m\n\u001b[1;32m      5\u001b[0m \u001b[0;32mimport\u001b[0m \u001b[0mmatplotlib\u001b[0m\u001b[0;34m.\u001b[0m\u001b[0mpyplot\u001b[0m \u001b[0;32mas\u001b[0m \u001b[0mplt\u001b[0m\u001b[0;34m\u001b[0m\u001b[0;34m\u001b[0m\u001b[0m\n",
      "\u001b[0;32m/home/saketh/snap/jupyter/common/lib/python3.7/site-packages/cv2/__init__.py\u001b[0m in \u001b[0;36m<module>\u001b[0;34m\u001b[0m\n\u001b[1;32m      3\u001b[0m \u001b[0;32mimport\u001b[0m \u001b[0msys\u001b[0m\u001b[0;34m\u001b[0m\u001b[0;34m\u001b[0m\u001b[0m\n\u001b[1;32m      4\u001b[0m \u001b[0;34m\u001b[0m\u001b[0m\n\u001b[0;32m----> 5\u001b[0;31m \u001b[0;32mfrom\u001b[0m \u001b[0;34m.\u001b[0m\u001b[0mcv2\u001b[0m \u001b[0;32mimport\u001b[0m \u001b[0;34m*\u001b[0m\u001b[0;34m\u001b[0m\u001b[0;34m\u001b[0m\u001b[0m\n\u001b[0m\u001b[1;32m      6\u001b[0m \u001b[0;32mfrom\u001b[0m \u001b[0;34m.\u001b[0m\u001b[0mdata\u001b[0m \u001b[0;32mimport\u001b[0m \u001b[0;34m*\u001b[0m\u001b[0;34m\u001b[0m\u001b[0;34m\u001b[0m\u001b[0m\n\u001b[1;32m      7\u001b[0m \u001b[0;34m\u001b[0m\u001b[0m\n",
      "\u001b[0;31mImportError\u001b[0m: libGL.so.1: cannot open shared object file: No such file or directory"
     ]
    }
   ],
   "source": [
    "from sklearn.cluster import KMeans\n",
    "import cv2\n",
    "import math\n",
    "import numpy as np\n",
    "import matplotlib.pyplot as plt\n",
    "%matplotlib inline\n",
    "\n",
    "img = cv2.imread(\"Scrub_Store_14.jpg\")\n",
    "rgb_img = cv2.cvtColor(img, cv2.COLOR_BGR2RGB)\n",
    "\n",
    "clt = KMeans(n_clusters=2)\n",
    "\n",
    "def show_img_compar(img_1, img_2 ):\n",
    "    f, ax = plt.subplots(1, 2, figsize=(10,10))\n",
    "    ax[0].imshow(img_1)\n",
    "    ax[1].imshow(img_2)\n",
    "    ax[0].axis('off') #hide the axis\n",
    "    ax[1].axis('off')\n",
    "    f.tight_layout()\n",
    "    plt.show()\n",
    "    \n",
    "def palette(clusters):\n",
    "    colors = []\n",
    "    width=300\n",
    "    palette = np.zeros((50, width, 3), np.uint8)\n",
    "    steps = width/clusters.cluster_centers_.shape[0]\n",
    "    for idx, centers in enumerate(clusters.cluster_centers_): \n",
    "        colors.append(centers)\n",
    "        palette[:, int(idx*steps):(int((idx+1)*steps)), :] = centers\n",
    "    print(list(colors))\n",
    "    return palette, colors\n",
    "\n",
    "\n",
    "# Light -1   Dark -0\n",
    "def isLightOrDark(rgbColor=[0,128,255]):\n",
    "    [r,g,b]=rgbColor\n",
    "    hsp = math.sqrt(0.299 * (r * r) + 0.587 * (g * g) + 0.114 * (b * b))\n",
    "    if (hsp>127.5):\n",
    "        return 1\n",
    "    else:\n",
    "        return 0\n",
    "\n",
    "clt_1 = clt.fit(rgb_img.reshape(-1, 3))\n",
    "palette_out = palette(clt_1)\n",
    "show_img_compar(rgb_img, palette_out[0])\n",
    "\n",
    "light_color = None\n",
    "for color in palette_out[1]:\n",
    "    if isLightOrDark(color) == 1:\n",
    "        light_color = color\n",
    "        break\n",
    "\n",
    "def color_diff1(c1,c2):\n",
    "    r1,g1,b1 = c1\n",
    "    r2,g2,b2 = c2\n",
    "    d=sqrt((r2-r1)**2+(g2-g1)**2+(b2-b1)**2)\n",
    "    if d < 100:\n",
    "        return True\n",
    "    return False\n",
    "\n",
    "def color_diff(c1,c2):\n",
    "    r1,g1,b1 = c1\n",
    "    r2,g2,b2 = c2\n",
    "    diff = 25\n",
    "    if abs(r1-r2) < diff and abs(g1-g2) < diff and abs(b1-b2) < diff:\n",
    "        return True\n",
    "    return False\n",
    "\n",
    "blank_image = np.zeros((img.shape[0],img.shape[1],3), np.uint8)\n",
    "empty_lot_pixels = 0\n",
    "for i in range(img.shape[0]):\n",
    "    for j in range(img.shape[1]):\n",
    "#         print(image[i,j])\n",
    "        x = img[i,j]\n",
    "#         print(type(x))\n",
    "        if color_diff(list(x),light_color):\n",
    "#             print(img[i,j])\n",
    "            empty_lot_pixels+=1\n",
    "            blank_image[i,j] = [0,0,0]\n",
    "        else:\n",
    "            blank_image[i,j] = list(x)\n",
    "            \n",
    "print(f\"Empty lot pixels {empty_lot_pixels}\")\n",
    "cv2.imshow(\"act\",img)\n",
    "cv2.imshow(\"\",blank_image)\n",
    "cv2.waitKey(0)\n",
    "cv2.destroyAllWindows()"
   ]
  },
  {
   "cell_type": "code",
   "execution_count": 2,
   "metadata": {},
   "outputs": [],
   "source": [
    "!pip"
   ]
  },
  {
   "cell_type": "code",
   "execution_count": 3,
   "metadata": {},
   "outputs": [
    {
     "name": "stdout",
     "output_type": "stream",
     "text": [
      "/snap/jupyter/6/bin/python\n"
     ]
    }
   ],
   "source": [
    "print(sys.executable)"
   ]
  },
  {
   "cell_type": "code",
   "execution_count": null,
   "metadata": {},
   "outputs": [],
   "source": []
  }
 ],
 "metadata": {
  "kernelspec": {
   "display_name": "Python 3",
   "language": "python",
   "name": "python3"
  },
  "language_info": {
   "codemirror_mode": {
    "name": "ipython",
    "version": 3
   },
   "file_extension": ".py",
   "mimetype": "text/x-python",
   "name": "python",
   "nbconvert_exporter": "python",
   "pygments_lexer": "ipython3",
   "version": "3.7.3"
  }
 },
 "nbformat": 4,
 "nbformat_minor": 4
}
