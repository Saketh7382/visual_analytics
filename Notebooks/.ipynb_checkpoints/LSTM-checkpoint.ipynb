{
 "cells": [
  {
   "cell_type": "code",
   "execution_count": 1,
   "id": "81088cfd",
   "metadata": {},
   "outputs": [],
   "source": [
    "import numpy as np\n",
    "import pandas as pd\n",
    "from matplotlib import pyplot as plt"
   ]
  },
  {
   "cell_type": "code",
   "execution_count": 70,
   "id": "df57c520",
   "metadata": {
    "scrolled": true
   },
   "outputs": [],
   "source": [
    "from sklearn.preprocessing import StandardScaler, MinMaxScaler\n",
    "import torch #pytorch\n",
    "import torch.nn as nn\n",
    "from torch.autograd import Variable "
   ]
  },
  {
   "cell_type": "code",
   "execution_count": 4,
   "id": "82abfa93",
   "metadata": {},
   "outputs": [],
   "source": [
    "dataset = pd.read_excel(\"./datasets/historic-sales.xlsx\")"
   ]
  },
  {
   "cell_type": "code",
   "execution_count": 6,
   "id": "a675accc",
   "metadata": {
    "scrolled": true
   },
   "outputs": [],
   "source": [
    "dataset = dataset.fillna(0)"
   ]
  },
  {
   "cell_type": "code",
   "execution_count": 55,
   "id": "f86629db",
   "metadata": {},
   "outputs": [
    {
     "name": "stdout",
     "output_type": "stream",
     "text": [
      "0 Unnamed: 0\n",
      "1 TIME_DIM_KEY\n",
      "2 SCRUB_STORE_NO\n",
      "3 SALES_UNITS\n",
      "4 unique_ID\n",
      "5 DOY_STD\n",
      "6 MIN_TEMPERATURE_AIR_2M_F\n",
      "7 AVG_TEMPERATURE_AIR_2M_F\n",
      "8 MAX_TEMPERATURE_AIR_2M_F\n",
      "9 MIN_TEMPERATURE_WETBULB_2M_F\n",
      "10 AVG_TEMPERATURE_WETBULB_2M_F\n",
      "11 MAX_TEMPERATURE_WETBULB_2M_F\n",
      "12 MIN_TEMPERATURE_DEWPOINT_2M_F\n",
      "13 AVG_TEMPERATURE_DEWPOINT_2M_F\n",
      "14 MAX_TEMPERATURE_DEWPOINT_2M_F\n",
      "15 MIN_TEMPERATURE_FEELSLIKE_2M_F\n",
      "16 AVG_TEMPERATURE_FEELSLIKE_2M_F\n",
      "17 MAX_TEMPERATURE_FEELSLIKE_2M_F\n",
      "18 MIN_TEMPERATURE_WINDCHILL_2M_F\n",
      "19 AVG_TEMPERATURE_WINDCHILL_2M_F\n",
      "20 MAX_TEMPERATURE_WINDCHILL_2M_F\n",
      "21 MIN_TEMPERATURE_HEATINDEX_2M_F\n",
      "22 AVG_TEMPERATURE_HEATINDEX_2M_F\n",
      "23 MAX_TEMPERATURE_HEATINDEX_2M_F\n",
      "24 MIN_HUMIDITY_RELATIVE_2M_PCT\n",
      "25 AVG_HUMIDITY_RELATIVE_2M_PCT\n",
      "26 MAX_HUMIDITY_RELATIVE_2M_PCT\n",
      "27 MIN_HUMIDITY_SPECIFIC_2M_GPKG\n",
      "28 AVG_HUMIDITY_SPECIFIC_2M_GPKG\n",
      "29 MAX_HUMIDITY_SPECIFIC_2M_GPKG\n",
      "30 MIN_PRESSURE_2M_MB\n",
      "31 AVG_PRESSURE_2M_MB\n",
      "32 MAX_PRESSURE_2M_MB\n",
      "33 MIN_PRESSURE_TENDENCY_2M_MB\n",
      "34 AVG_PRESSURE_TENDENCY_2M_MB\n",
      "35 MAX_PRESSURE_TENDENCY_2M_MB\n",
      "36 MIN_PRESSURE_MEAN_SEA_LEVEL_MB\n",
      "37 AVG_PRESSURE_MEAN_SEA_LEVEL_MB\n",
      "38 MAX_PRESSURE_MEAN_SEA_LEVEL_MB\n",
      "39 MIN_WIND_SPEED_10M_MPH\n",
      "40 AVG_WIND_SPEED_10M_MPH\n",
      "41 MAX_WIND_SPEED_10M_MPH\n",
      "42 AVG_WIND_DIRECTION_10M_DEG\n",
      "43 MIN_WIND_SPEED_80M_MPH\n",
      "44 AVG_WIND_SPEED_80M_MPH\n",
      "45 MAX_WIND_SPEED_80M_MPH\n",
      "46 AVG_WIND_DIRECTION_80M_DEG\n",
      "47 MIN_WIND_SPEED_100M_MPH\n",
      "48 AVG_WIND_SPEED_100M_MPH\n",
      "49 MAX_WIND_SPEED_100M_MPH\n",
      "50 AVG_WIND_DIRECTION_100M_DEG\n",
      "51 TOT_PRECIPITATION_IN\n",
      "52 TOT_SNOWFALL_IN\n",
      "53 TOT_SNOWDEPTH_IN\n",
      "54 MIN_CLOUD_COVER_TOT_PCT\n",
      "55 AVG_CLOUD_COVER_TOT_PCT\n",
      "56 MAX_CLOUD_COVER_TOT_PCT\n",
      "57 MIN_RADIATION_SOLAR_TOTAL_WPM2\n",
      "58 AVG_RADIATION_SOLAR_TOTAL_WPM2\n",
      "59 MAX_RADIATION_SOLAR_TOTAL_WPM2\n",
      "60 TOT_RADIATION_SOLAR_TOTAL_WPM2\n"
     ]
    }
   ],
   "source": [
    "cols = list(dataset.columns)\n",
    "l = len(cols)\n",
    "for i in range(l):\n",
    "    print(i, cols[i])"
   ]
  },
  {
   "cell_type": "code",
   "execution_count": null,
   "id": "62495670",
   "metadata": {},
   "outputs": [],
   "source": [
    "#data variables\n",
    "def split(data,independent_cols,dependent_cols,split=0.8)"
   ]
  },
  {
   "cell_type": "markdown",
   "id": "c8b4e993",
   "metadata": {},
   "source": [
    "# Negleting the geographic reference of the stores"
   ]
  },
  {
   "cell_type": "code",
   "execution_count": 167,
   "id": "5da48807",
   "metadata": {},
   "outputs": [],
   "source": [
    "# total data\n",
    "independent_cols = (6,60)\n",
    "dependent_cols = (3,4)\n",
    "split = [0.8,0.1,0.1]"
   ]
  },
  {
   "cell_type": "code",
   "execution_count": 168,
   "id": "46785fee",
   "metadata": {},
   "outputs": [
    {
     "data": {
      "text/plain": [
       "(28188, 61)"
      ]
     },
     "execution_count": 168,
     "metadata": {},
     "output_type": "execute_result"
    }
   ],
   "source": [
    "train_len = int(dataset.shape[0] * split[0])\n",
    "test_len = int(dataset.shape[0] * split[1])\n",
    "\n",
    "data = dataset.iloc[:train_len+test_len,:]\n",
    "data.shape"
   ]
  },
  {
   "cell_type": "code",
   "execution_count": 169,
   "id": "c06ca20d",
   "metadata": {},
   "outputs": [],
   "source": [
    "X = data.iloc[:, independent_cols[0]:independent_cols[1]]\n",
    "y = data.iloc[:, dependent_cols[0]:dependent_cols[1]] "
   ]
  },
  {
   "cell_type": "code",
   "execution_count": 170,
   "id": "cbb30b7a",
   "metadata": {},
   "outputs": [],
   "source": [
    "mm = MinMaxScaler()\n",
    "ss = StandardScaler()\n",
    "\n",
    "X_ss = ss.fit_transform(X)\n",
    "y_mm = mm.fit_transform(y)"
   ]
  },
  {
   "cell_type": "code",
   "execution_count": 171,
   "id": "1c82e7a3",
   "metadata": {},
   "outputs": [
    {
     "name": "stdout",
     "output_type": "stream",
     "text": [
      "Training Shape (25057, 54) (25057, 1)\n",
      "Testing Shape (3131, 54) (3131, 1)\n"
     ]
    }
   ],
   "source": [
    "X_train = X_ss[:train_len+1, :]\n",
    "X_test = X_ss[train_len+1:, :]\n",
    "\n",
    "y_train = y_mm[:train_len+1, :]\n",
    "y_test = y_mm[train_len+1:, :] \n",
    "\n",
    "print(\"Training Shape\", X_train.shape, y_train.shape)\n",
    "print(\"Testing Shape\", X_test.shape, y_test.shape) "
   ]
  },
  {
   "cell_type": "code",
   "execution_count": 172,
   "id": "57c6d276",
   "metadata": {},
   "outputs": [],
   "source": [
    "X_train_tensors = Variable(torch.Tensor(X_train))\n",
    "X_test_tensors = Variable(torch.Tensor(X_test))\n",
    "\n",
    "y_train_tensors = Variable(torch.Tensor(y_train))\n",
    "y_test_tensors = Variable(torch.Tensor(y_test)) "
   ]
  },
  {
   "cell_type": "code",
   "execution_count": 173,
   "id": "9866f8e9",
   "metadata": {},
   "outputs": [
    {
     "name": "stdout",
     "output_type": "stream",
     "text": [
      "Training Shape torch.Size([25057, 1, 54]) torch.Size([25057, 1])\n",
      "Testing Shape torch.Size([3131, 1, 54]) torch.Size([3131, 1])\n"
     ]
    }
   ],
   "source": [
    "X_train_tensors_final = torch.reshape(X_train_tensors,   (X_train_tensors.shape[0], 1, X_train_tensors.shape[1]))\n",
    "X_test_tensors_final = torch.reshape(X_test_tensors,  (X_test_tensors.shape[0], 1, X_test_tensors.shape[1])) \n",
    "\n",
    "print(\"Training Shape\", X_train_tensors_final.shape, y_train_tensors.shape)\n",
    "print(\"Testing Shape\", X_test_tensors_final.shape, y_test_tensors.shape) "
   ]
  },
  {
   "cell_type": "code",
   "execution_count": 174,
   "id": "d805ef37",
   "metadata": {},
   "outputs": [],
   "source": [
    "class LSTM1(nn.Module):\n",
    "    def __init__(self, num_classes, input_size, hidden_size, num_layers, seq_length):\n",
    "        super(LSTM1, self).__init__()\n",
    "        self.num_classes = num_classes #number of classes\n",
    "        self.num_layers = num_layers #number of layers\n",
    "        self.input_size = input_size #input size\n",
    "        self.hidden_size = hidden_size #hidden state\n",
    "        self.seq_length = seq_length #sequence length\n",
    "\n",
    "        self.lstm = nn.LSTM(input_size=input_size, hidden_size=hidden_size,\n",
    "                          num_layers=num_layers, batch_first=True) #lstm\n",
    "        self.fc_1 =  nn.Linear(hidden_size, 128) #fully connected 1\n",
    "        self.fc = nn.Linear(128, num_classes) #fully connected last layer\n",
    "\n",
    "        self.relu = nn.ReLU()\n",
    "    \n",
    "    def forward(self,x):\n",
    "        h_0 = Variable(torch.zeros(self.num_layers, x.size(0), self.hidden_size)) #hidden state\n",
    "        c_0 = Variable(torch.zeros(self.num_layers, x.size(0), self.hidden_size)) #internal state\n",
    "        # Propagate input through LSTM\n",
    "        output, (hn, cn) = self.lstm(x, (h_0, c_0)) #lstm with input, hidden, and internal state\n",
    "        hn = hn.view(-1, self.hidden_size) #reshaping the data for Dense layer next\n",
    "        out = self.relu(hn)\n",
    "        out = self.fc_1(out) #first Dense\n",
    "        out = self.relu(out) #relu\n",
    "        out = self.fc(out) #Final Output\n",
    "        return out"
   ]
  },
  {
   "cell_type": "code",
   "execution_count": 178,
   "id": "7c625af7",
   "metadata": {},
   "outputs": [],
   "source": [
    "num_epochs = 1000 #1000 epochs\n",
    "learning_rate = 0.01 #0.001 lr\n",
    "\n",
    "input_size = 54 #number of features\n",
    "hidden_size = 200 #number of features in hidden state\n",
    "num_layers = 1 #number of stacked lstm layers\n",
    "\n",
    "num_classes = 1 #number of output classes "
   ]
  },
  {
   "cell_type": "code",
   "execution_count": 179,
   "id": "783383d4",
   "metadata": {},
   "outputs": [],
   "source": [
    "lstm1 = LSTM1(num_classes, input_size, hidden_size, num_layers, X_train_tensors_final.shape[1]) #our lstm class \n",
    "criterion = torch.nn.MSELoss()    # mean-squared error for regression\n",
    "optimizer = torch.optim.Adam(lstm1.parameters(), lr=learning_rate) "
   ]
  },
  {
   "cell_type": "code",
   "execution_count": 180,
   "id": "6d9116ba",
   "metadata": {},
   "outputs": [
    {
     "name": "stdout",
     "output_type": "stream",
     "text": [
      "Epoch: 0, loss: 0.02536\n",
      "Epoch: 100, loss: 0.00135\n",
      "Epoch: 200, loss: 0.00121\n",
      "Epoch: 300, loss: 0.00100\n",
      "Epoch: 400, loss: 0.00088\n",
      "Epoch: 500, loss: 0.00067\n",
      "Epoch: 600, loss: 0.00074\n",
      "Epoch: 700, loss: 0.00067\n",
      "Epoch: 800, loss: 0.00052\n",
      "Epoch: 900, loss: 0.00048\n"
     ]
    }
   ],
   "source": [
    "for epoch in range(num_epochs):\n",
    "    outputs = lstm1.forward(X_train_tensors_final) #forward pass\n",
    "    optimizer.zero_grad() #caluclate the gradient, manually setting to 0\n",
    "\n",
    "    # obtain the loss function\n",
    "    loss = criterion(outputs, y_train_tensors)\n",
    "\n",
    "    loss.backward() #calculates the loss of the loss function\n",
    "\n",
    "    optimizer.step() #improve from loss, i.e backprop\n",
    "    if epoch % 100 == 0:\n",
    "        print(\"Epoch: %d, loss: %1.5f\" % (epoch, loss.item())) "
   ]
  },
  {
   "cell_type": "code",
   "execution_count": 184,
   "id": "304df49a",
   "metadata": {},
   "outputs": [],
   "source": [
    "X_val = dataset.iloc[train_len+test_len:, independent_cols[0]:independent_cols[1]]\n",
    "y_val = dataset.iloc[train_len+test_len:, dependent_cols[0]:dependent_cols[1]] \n",
    "\n",
    "df_X_ss = ss.transform(X_val) #old transformers\n",
    "df_y_mm = mm.transform(y_val) #old transformers\n",
    "\n",
    "df_X_ss = ss.transform(dataset.iloc[:, independent_cols[0]:independent_cols[1]]) #old transformers\n",
    "df_y_mm = mm.transform(dataset.iloc[:, dependent_cols[0]:dependent_cols[1]]) #old transformers\n",
    "\n",
    "df_X_ss = Variable(torch.Tensor(df_X_ss)) #converting to Tensors\n",
    "df_y_mm = Variable(torch.Tensor(df_y_mm))\n",
    "#reshaping the dataset\n",
    "df_X_ss = torch.reshape(df_X_ss, (df_X_ss.shape[0], 1, df_X_ss.shape[1])) "
   ]
  },
  {
   "cell_type": "code",
   "execution_count": 191,
   "id": "3eb12a73",
   "metadata": {},
   "outputs": [
    {
     "data": {
      "image/png": "[encoded data removed]",
      "text/plain": [
       "<Figure size 720x432 with 1 Axes>"
      ]
     },
     "metadata": {
      "needs_background": "light"
     },
     "output_type": "display_data"
    }
   ],
   "source": [
    "train_predict = lstm1(df_X_ss)#forward pass\n",
    "data_predict = train_predict.data.numpy() #numpy conversion\n",
    "dataY_plot = df_y_mm.data.numpy()\n",
    "\n",
    "data_predict = mm.inverse_transform(data_predict) #reverse transformation\n",
    "dataY_plot = mm.inverse_transform(dataY_plot)\n",
    "plt.figure(figsize=(10,6)) #plotting\n",
    "plt.axvline(x=train_len+test_len, c='r', linestyle='--') #size of the training set\n",
    "\n",
    "\n",
    "plt.plot(data_predict, label='Predicted Data') #predicted plot\n",
    "plt.plot(dataY_plot, label='Actuall Data') #actual plot\n",
    "plt.title('Time-Series Prediction')\n",
    "plt.legend()\n",
    "plt.show() "
   ]
  },
  {
   "cell_type": "code",
   "execution_count": 188,
   "id": "efe63b9e",
   "metadata": {},
   "outputs": [
    {
     "data": {
      "text/plain": [
       "array([[473.64148 ],\n",
       "       [480.36493 ],\n",
       "       [227.13297 ],\n",
       "       ...,\n",
       "       [ 56.160595],\n",
       "       [101.007225],\n",
       "       [184.61705 ]], dtype=float32)"
      ]
     },
     "execution_count": 188,
     "metadata": {},
     "output_type": "execute_result"
    }
   ],
   "source": [
    "data_predict"
   ]
  },
  {
   "cell_type": "code",
   "execution_count": 189,
   "id": "75677361",
   "metadata": {},
   "outputs": [
    {
     "data": {
      "text/plain": [
       "array([[759.00006 ],\n",
       "       [485.99997 ],\n",
       "       [325.99997 ],\n",
       "       ...,\n",
       "       [ 11.999992],\n",
       "       [120.00002 ],\n",
       "       [120.00002 ]], dtype=float32)"
      ]
     },
     "execution_count": 189,
     "metadata": {},
     "output_type": "execute_result"
    }
   ],
   "source": [
    "dataY_plot"
   ]
  },
  {
   "cell_type": "code",
   "execution_count": null,
   "id": "c16ca89b",
   "metadata": {},
   "outputs": [],
   "source": []
  },
  {
   "cell_type": "code",
   "execution_count": null,
   "id": "98478155",
   "metadata": {},
   "outputs": [],
   "source": []
  },
  {
   "cell_type": "code",
   "execution_count": null,
   "id": "fb8ecc33",
   "metadata": {},
   "outputs": [],
   "source": []
  },
  {
   "cell_type": "code",
   "execution_count": null,
   "id": "e61ee63b",
   "metadata": {},
   "outputs": [],
   "source": []
  },
  {
   "cell_type": "code",
   "execution_count": null,
   "id": "2cc1e670",
   "metadata": {},
   "outputs": [],
   "source": []
  },
  {
   "cell_type": "code",
   "execution_count": null,
   "id": "056db282",
   "metadata": {},
   "outputs": [],
   "source": []
  },
  {
   "cell_type": "code",
   "execution_count": null,
   "id": "2f9459a5",
   "metadata": {},
   "outputs": [],
   "source": []
  },
  {
   "cell_type": "code",
   "execution_count": null,
   "id": "7e6f9c4b",
   "metadata": {},
   "outputs": [],
   "source": []
  },
  {
   "cell_type": "code",
   "execution_count": null,
   "id": "3a9660ea",
   "metadata": {},
   "outputs": [],
   "source": []
  },
  {
   "cell_type": "code",
   "execution_count": null,
   "id": "cc07160c",
   "metadata": {},
   "outputs": [],
   "source": []
  },
  {
   "cell_type": "code",
   "execution_count": null,
   "id": "0098814e",
   "metadata": {},
   "outputs": [],
   "source": []
  },
  {
   "cell_type": "code",
   "execution_count": null,
   "id": "999e1b1e",
   "metadata": {},
   "outputs": [],
   "source": []
  },
  {
   "cell_type": "code",
   "execution_count": null,
   "id": "57d404d2",
   "metadata": {},
   "outputs": [],
   "source": []
  },
  {
   "cell_type": "code",
   "execution_count": null,
   "id": "1c41fc0f",
   "metadata": {},
   "outputs": [],
   "source": []
  },
  {
   "cell_type": "code",
   "execution_count": null,
   "id": "8062b623",
   "metadata": {},
   "outputs": [],
   "source": []
  },
  {
   "cell_type": "code",
   "execution_count": null,
   "id": "d986c2b6",
   "metadata": {},
   "outputs": [],
   "source": []
  },
  {
   "cell_type": "code",
   "execution_count": null,
   "id": "7acf50de",
   "metadata": {},
   "outputs": [],
   "source": []
  },
  {
   "cell_type": "code",
   "execution_count": null,
   "id": "3e2b75d6",
   "metadata": {},
   "outputs": [],
   "source": []
  },
  {
   "cell_type": "code",
   "execution_count": null,
   "id": "95dea5dd",
   "metadata": {},
   "outputs": [],
   "source": []
  },
  {
   "cell_type": "code",
   "execution_count": null,
   "id": "382fec84",
   "metadata": {},
   "outputs": [],
   "source": []
  },
  {
   "cell_type": "code",
   "execution_count": null,
   "id": "91fa3183",
   "metadata": {},
   "outputs": [],
   "source": []
  },
  {
   "cell_type": "code",
   "execution_count": null,
   "id": "86c37cf2",
   "metadata": {},
   "outputs": [],
   "source": []
  },
  {
   "cell_type": "code",
   "execution_count": null,
   "id": "bd580afc",
   "metadata": {},
   "outputs": [],
   "source": []
  },
  {
   "cell_type": "code",
   "execution_count": null,
   "id": "56f7bccd",
   "metadata": {},
   "outputs": [],
   "source": []
  },
  {
   "cell_type": "code",
   "execution_count": null,
   "id": "81516a71",
   "metadata": {},
   "outputs": [],
   "source": []
  },
  {
   "cell_type": "code",
   "execution_count": null,
   "id": "e0aa2781",
   "metadata": {},
   "outputs": [],
   "source": []
  },
  {
   "cell_type": "code",
   "execution_count": null,
   "id": "a3d1ad60",
   "metadata": {},
   "outputs": [],
   "source": []
  },
  {
   "cell_type": "code",
   "execution_count": null,
   "id": "351d1678",
   "metadata": {},
   "outputs": [],
   "source": []
  },
  {
   "cell_type": "code",
   "execution_count": null,
   "id": "e0ba0976",
   "metadata": {},
   "outputs": [],
   "source": []
  },
  {
   "cell_type": "code",
   "execution_count": null,
   "id": "99c77ece",
   "metadata": {},
   "outputs": [],
   "source": []
  },
  {
   "cell_type": "code",
   "execution_count": null,
   "id": "a51cde85",
   "metadata": {},
   "outputs": [],
   "source": []
  },
  {
   "cell_type": "code",
   "execution_count": null,
   "id": "f2de5bfc",
   "metadata": {},
   "outputs": [],
   "source": []
  },
  {
   "cell_type": "code",
   "execution_count": null,
   "id": "5d5a374e",
   "metadata": {},
   "outputs": [],
   "source": []
  },
  {
   "cell_type": "code",
   "execution_count": null,
   "id": "9cb5c001",
   "metadata": {},
   "outputs": [],
   "source": []
  },
  {
   "cell_type": "code",
   "execution_count": null,
   "id": "79a8aec9",
   "metadata": {},
   "outputs": [],
   "source": []
  },
  {
   "cell_type": "code",
   "execution_count": null,
   "id": "af0b51b4",
   "metadata": {},
   "outputs": [],
   "source": []
  },
  {
   "cell_type": "code",
   "execution_count": null,
   "id": "6671906d",
   "metadata": {},
   "outputs": [],
   "source": []
  },
  {
   "cell_type": "code",
   "execution_count": null,
   "id": "505e8c9a",
   "metadata": {},
   "outputs": [],
   "source": []
  },
  {
   "cell_type": "code",
   "execution_count": null,
   "id": "c4af7562",
   "metadata": {},
   "outputs": [],
   "source": []
  },
  {
   "cell_type": "code",
   "execution_count": null,
   "id": "44f5919a",
   "metadata": {},
   "outputs": [],
   "source": []
  },
  {
   "cell_type": "code",
   "execution_count": null,
   "id": "5e7ad8d6",
   "metadata": {},
   "outputs": [],
   "source": []
  },
  {
   "cell_type": "code",
   "execution_count": null,
   "id": "5541d608",
   "metadata": {},
   "outputs": [],
   "source": []
  },
  {
   "cell_type": "code",
   "execution_count": null,
   "id": "91bc9e2d",
   "metadata": {},
   "outputs": [],
   "source": []
  },
  {
   "cell_type": "code",
   "execution_count": null,
   "id": "253ce38b",
   "metadata": {},
   "outputs": [],
   "source": []
  },
  {
   "cell_type": "code",
   "execution_count": null,
   "id": "fe6d9ed0",
   "metadata": {},
   "outputs": [],
   "source": []
  },
  {
   "cell_type": "code",
   "execution_count": null,
   "id": "2ce0c877",
   "metadata": {},
   "outputs": [],
   "source": []
  },
  {
   "cell_type": "code",
   "execution_count": null,
   "id": "d1dd9633",
   "metadata": {},
   "outputs": [],
   "source": []
  },
  {
   "cell_type": "code",
   "execution_count": null,
   "id": "8d88c4d9",
   "metadata": {},
   "outputs": [],
   "source": []
  },
  {
   "cell_type": "code",
   "execution_count": null,
   "id": "abfe83b8",
   "metadata": {},
   "outputs": [],
   "source": []
  }
 ],
 "metadata": {
  "kernelspec": {
   "display_name": "Python 3 (ipykernel)",
   "language": "python",
   "name": "python3"
  },
  "language_info": {
   "codemirror_mode": {
    "name": "ipython",
    "version": 3
   },
   "file_extension": ".py",
   "mimetype": "text/x-python",
   "name": "python",
   "nbconvert_exporter": "python",
   "pygments_lexer": "ipython3",
   "version": "3.8.10"
  }
 },
 "nbformat": 4,
 "nbformat_minor": 5
}
