{
 "cells": [
  {
   "cell_type": "code",
   "execution_count": 237,
   "id": "cdfa554f",
   "metadata": {},
   "outputs": [],
   "source": [
    "import numpy as np\n",
    "import pandas as pd\n",
    "from matplotlib import pyplot as plt\n",
    "from pathlib import Path\n",
    "import time\n",
    "import datetime"
   ]
  },
  {
   "cell_type": "code",
   "execution_count": 185,
   "id": "c8b7382e",
   "metadata": {},
   "outputs": [],
   "source": [
    "#read excel sheet\n",
    "xls = pd.ExcelFile('../../AI-ML Tractor Analytics/DataSet.xlsx')\n",
    "sales = pd.read_excel(xls,'Sales Data')\n",
    "historic = pd.read_excel(xls,'HISTORY_DAY')\n",
    "forecast = pd.read_excel(xls,'FORECAST_DAY')"
   ]
  },
  {
   "cell_type": "markdown",
   "id": "d7e6941c",
   "metadata": {},
   "source": [
    "# Model 1"
   ]
  },
  {
   "cell_type": "markdown",
   "id": "4fd348e5",
   "metadata": {},
   "source": [
    "## Data Preprocessing"
   ]
  },
  {
   "cell_type": "code",
   "execution_count": 186,
   "id": "e5120cb9",
   "metadata": {},
   "outputs": [],
   "source": [
    "#adding unique ID to Historic data\n",
    "temp = historic.copy()\n",
    "\n",
    "rows = historic.shape[0]\n",
    "vals = list()\n",
    "for i in range(rows):\n",
    "    s = \"\".join(str(temp[\"DATE_VALID_STD\"][i]).split()[0].split(\"-\"))\n",
    "    s = s + \"-\" + str(temp[\"SCRUB_STORE_NO\"][i])\n",
    "    vals.append(s)\n",
    "\n",
    "historic[\"unique_ID\"] = vals"
   ]
  },
  {
   "cell_type": "code",
   "execution_count": 187,
   "id": "6640dd2d",
   "metadata": {},
   "outputs": [],
   "source": [
    "#adding unique ID to Sales data\n",
    "temp = sales.copy()\n",
    "\n",
    "rows = sales.shape[0]\n",
    "vals = list()\n",
    "for i in range(rows):\n",
    "    s = str(temp[\"TIME_DIM_KEY\"][i]) + \"-\" + str(temp[\"SCRUB_STORE_NO\"][i])\n",
    "    vals.append(s)\n",
    "\n",
    "sales[\"unique_ID\"] = vals"
   ]
  },
  {
   "cell_type": "code",
   "execution_count": 188,
   "id": "726b1cc4",
   "metadata": {},
   "outputs": [],
   "source": [
    "#adding unique ID to Forecasting data\n",
    "temp = forecast.copy()\n",
    "\n",
    "rows = forecast.shape[0]\n",
    "vals = list()\n",
    "for i in range(rows):\n",
    "    s = \"\".join(str(temp[\"DATE_VALID_STD\"][i]).split()[0].split(\"-\"))\n",
    "    vals.append(s)\n",
    "\n",
    "forecast[\"TIME_DIM_KEY\"] = vals"
   ]
  },
  {
   "cell_type": "code",
   "execution_count": 189,
   "id": "5aecbead",
   "metadata": {},
   "outputs": [],
   "source": [
    "#merging historic and sales data\n",
    "dataset = sales.merge(historic.iloc[:,3:], on=\"unique_ID\", how=\"left\")\n",
    "dataset = dataset.fillna(0)"
   ]
  },
  {
   "cell_type": "markdown",
   "id": "14741938",
   "metadata": {},
   "source": [
    "## Datasets"
   ]
  },
  {
   "cell_type": "code",
   "execution_count": 169,
   "id": "1337e50c",
   "metadata": {},
   "outputs": [],
   "source": [
    "### TRAINING DATASET\n",
    "\n",
    "#to Excel\n",
    "if not Path(\"./datasets/model_1/training.xlsx\").is_file():\n",
    "    dataset.to_excel(\"./datasets/model_1/training.xlsx\")\n",
    "\n",
    "#to CSV\n",
    "if not Path(\"./datasets/model_1/training.csv\").is_file():\n",
    "    dataset.to_csv(\"./datasets/model_1/training.csv\")"
   ]
  },
  {
   "cell_type": "markdown",
   "id": "46fa674f",
   "metadata": {},
   "source": [
    "------------------------------------------------------------------------------------------------------------------"
   ]
  },
  {
   "cell_type": "markdown",
   "id": "1dfaf51c",
   "metadata": {},
   "source": [
    "# Model 2"
   ]
  },
  {
   "cell_type": "markdown",
   "id": "300d7358",
   "metadata": {},
   "source": [
    "## Data Preprocessing"
   ]
  },
  {
   "cell_type": "code",
   "execution_count": 170,
   "id": "72ddb00d",
   "metadata": {},
   "outputs": [],
   "source": [
    "m2_dataset = dataset.copy()\n",
    "m2_forecast = forecast.copy()"
   ]
  },
  {
   "cell_type": "code",
   "execution_count": 171,
   "id": "c506a5b6",
   "metadata": {},
   "outputs": [
    {
     "data": {
      "text/plain": [
       "['AVG_PRESSURE_TENDENCY_2M_MB',\n",
       " 'MAX_PRESSURE_TENDENCY_2M_MB',\n",
       " 'MIN_PRESSURE_TENDENCY_2M_MB',\n",
       " 'TOT_SNOWDEPTH_IN',\n",
       " 'unique_ID']"
      ]
     },
     "execution_count": 171,
     "metadata": {},
     "output_type": "execute_result"
    }
   ],
   "source": [
    "exclude = list(set(list(m2_dataset.columns)) - set(list(m2_forecast.columns)))\n",
    "exclude = [i for i in exclude if i != \"SALES_UNITS\"]\n",
    "exclude"
   ]
  },
  {
   "cell_type": "code",
   "execution_count": 172,
   "id": "728c2637",
   "metadata": {},
   "outputs": [],
   "source": [
    "try:\n",
    "    m2_dataset = m2_dataset.drop(exclude,axis=1)\n",
    "except:\n",
    "    print(\"Already deleted\")"
   ]
  },
  {
   "cell_type": "code",
   "execution_count": 173,
   "id": "9b08be77",
   "metadata": {},
   "outputs": [
    {
     "data": {
      "text/plain": [
       "['DATE_VALID_STD',\n",
       " 'PROBABILITY_OF_PRECIPITATION_PCT',\n",
       " 'PROBABILITY_OF_SNOW_PCT']"
      ]
     },
     "execution_count": 173,
     "metadata": {},
     "output_type": "execute_result"
    }
   ],
   "source": [
    "exclude = list(set(list(m2_forecast.columns)) - set(list(m2_dataset.columns)))\n",
    "exclude"
   ]
  },
  {
   "cell_type": "code",
   "execution_count": 174,
   "id": "8f875f92",
   "metadata": {},
   "outputs": [],
   "source": [
    "try:\n",
    "    m2_forecast = m2_forecast.drop(exclude,axis=1)\n",
    "except:\n",
    "    print(\"Already deleted\")"
   ]
  },
  {
   "cell_type": "code",
   "execution_count": 181,
   "id": "648ef5a1",
   "metadata": {},
   "outputs": [
    {
     "name": "stdout",
     "output_type": "stream",
     "text": [
      "Datasets are in correct format\n"
     ]
    }
   ],
   "source": [
    "if (m2_dataset.shape[1] == 55 and m2_forecast.shape[1] == 54):\n",
    "    print(\"Datasets are in correct format\")\n",
    "else:\n",
    "    print(\"Datasets are not in correct format\")"
   ]
  },
  {
   "cell_type": "markdown",
   "id": "02907b98",
   "metadata": {},
   "source": [
    "## Datasets"
   ]
  },
  {
   "cell_type": "code",
   "execution_count": 182,
   "id": "874e854e",
   "metadata": {},
   "outputs": [
    {
     "name": "stdout",
     "output_type": "stream",
     "text": [
      "ignore\n"
     ]
    }
   ],
   "source": [
    "### TRAINING DATASET\n",
    "try:\n",
    "    m2_dataset = m2_dataset.drop(['Unnamed: 0'],axis=1)\n",
    "except:\n",
    "    print(\"ignore\")\n",
    "\n",
    "#to excel\n",
    "if not Path(\"./datasets/model_2/training.xlsx\").is_file():\n",
    "    m2_dataset.to_excel(\"./datasets/model_2/training.xlsx\",index=False)\n",
    "\n",
    "if not Path(\"./datasets/model_2/training.csv\").is_file():\n",
    "    m2_dataset.to_csv(\"./datasets/model_2/training.csv\",index=False)"
   ]
  },
  {
   "cell_type": "code",
   "execution_count": 183,
   "id": "1580b820",
   "metadata": {},
   "outputs": [
    {
     "name": "stdout",
     "output_type": "stream",
     "text": [
      "ignore\n"
     ]
    }
   ],
   "source": [
    "### FORECASE DATASET\n",
    "\n",
    "try:\n",
    "    m2_forecast = m2_forecast.drop(['Unnamed: 0'],axis=1)\n",
    "except:\n",
    "    print(\"ignore\")\n",
    "\n",
    "#to excel\n",
    "if not Path(\"./datasets/model_2/forecast.xlsx\").is_file():\n",
    "    m2_forecast.to_excel(\"./datasets/model_2/forecast.xlsx\",index=False)\n",
    "\n",
    "if not Path(\"./datasets/model_2/forecast.csv\").is_file():\n",
    "    m2_forecast.to_csv(\"./datasets/model_2/forecast.csv\",index=False)"
   ]
  },
  {
   "cell_type": "markdown",
   "id": "232156ea",
   "metadata": {},
   "source": [
    "__________________________________________________________________________________________________________________"
   ]
  },
  {
   "cell_type": "markdown",
   "id": "8c56ec05",
   "metadata": {},
   "source": [
    "# Model 3"
   ]
  },
  {
   "cell_type": "markdown",
   "id": "667701bc",
   "metadata": {},
   "source": [
    "## Data Preprocessing"
   ]
  },
  {
   "cell_type": "code",
   "execution_count": 242,
   "id": "23410114",
   "metadata": {},
   "outputs": [],
   "source": [
    "m3_dataset = dataset.copy()\n",
    "m3_forecast = forecast.copy()"
   ]
  },
  {
   "cell_type": "code",
   "execution_count": 192,
   "id": "c871c9d7",
   "metadata": {},
   "outputs": [
    {
     "data": {
      "text/plain": [
       "['AVG_PRESSURE_TENDENCY_2M_MB',\n",
       " 'MAX_PRESSURE_TENDENCY_2M_MB',\n",
       " 'MIN_PRESSURE_TENDENCY_2M_MB',\n",
       " 'TOT_SNOWDEPTH_IN',\n",
       " 'unique_ID']"
      ]
     },
     "execution_count": 192,
     "metadata": {},
     "output_type": "execute_result"
    }
   ],
   "source": [
    "exclude = list(set(list(m3_dataset.columns)) - set(list(m3_forecast.columns)))\n",
    "exclude = [i for i in exclude if i != \"SALES_UNITS\"]\n",
    "exclude"
   ]
  },
  {
   "cell_type": "code",
   "execution_count": 193,
   "id": "1ead6045",
   "metadata": {},
   "outputs": [],
   "source": [
    "try:\n",
    "    m3_dataset = m3_dataset.drop(exclude,axis=1)\n",
    "except:\n",
    "    print(\"Already deleted\")"
   ]
  },
  {
   "cell_type": "code",
   "execution_count": 194,
   "id": "fa685003",
   "metadata": {},
   "outputs": [
    {
     "data": {
      "text/plain": [
       "['DATE_VALID_STD',\n",
       " 'PROBABILITY_OF_PRECIPITATION_PCT',\n",
       " 'PROBABILITY_OF_SNOW_PCT']"
      ]
     },
     "execution_count": 194,
     "metadata": {},
     "output_type": "execute_result"
    }
   ],
   "source": [
    "exclude = list(set(list(m3_forecast.columns)) - set(list(m3_dataset.columns)))\n",
    "exclude"
   ]
  },
  {
   "cell_type": "code",
   "execution_count": 195,
   "id": "2f105804",
   "metadata": {},
   "outputs": [],
   "source": [
    "try:\n",
    "    m3_forecast = m3_forecast.drop(exclude,axis=1)\n",
    "except:\n",
    "    print(\"Already deleted\")"
   ]
  },
  {
   "cell_type": "code",
   "execution_count": 196,
   "id": "8ec10105",
   "metadata": {},
   "outputs": [
    {
     "name": "stdout",
     "output_type": "stream",
     "text": [
      "Datasets are in correct format\n"
     ]
    }
   ],
   "source": [
    "if (m3_dataset.shape[1] == 55 and m3_forecast.shape[1] == 54):\n",
    "    print(\"Datasets are in correct format\")\n",
    "else:\n",
    "    print(\"Datasets are not in correct format\")"
   ]
  },
  {
   "cell_type": "code",
   "execution_count": 245,
   "id": "ec490742",
   "metadata": {},
   "outputs": [],
   "source": [
    "#adding Timestamp to Training data\n",
    "temp = m3_dataset.copy()\n",
    "\n",
    "rows = m3_dataset.shape[0]\n",
    "vals = list()\n",
    "for i in range(rows):\n",
    "    s = str(temp[\"TIME_DIM_KEY\"][i])\n",
    "    if len(s) != 8:\n",
    "        print(s)\n",
    "        raise Exception\n",
    "    else:\n",
    "        s = s[:4]+\"-\"+s[4:6]+\"-\"+s[6:]\n",
    "    d = np.datetime64(s)\n",
    "    vals.append(d)\n",
    "\n",
    "m3_dataset[\"TIME_DIM_KEY\"] = vals"
   ]
  },
  {
   "cell_type": "code",
   "execution_count": 243,
   "id": "e00a9fbe",
   "metadata": {},
   "outputs": [],
   "source": [
    "#adding Timestamp to Forecasting data\n",
    "temp = m3_forecast.copy()\n",
    "\n",
    "rows = m3_forecast.shape[0]\n",
    "vals = list()\n",
    "for i in range(rows):\n",
    "    s = str(temp[\"TIME_DIM_KEY\"][i])\n",
    "    if len(s) != 8:\n",
    "        print(s)\n",
    "        raise Exception\n",
    "    else:\n",
    "        s = s[:4]+\"-\"+s[4:6]+\"-\"+s[6:]\n",
    "    d = np.datetime64(s)\n",
    "    vals.append(d)\n",
    "\n",
    "m3_forecast[\"TIME_DIM_KEY\"] = vals"
   ]
  },
  {
   "cell_type": "markdown",
   "id": "269f1fa4",
   "metadata": {},
   "source": [
    "## Datasets "
   ]
  },
  {
   "cell_type": "code",
   "execution_count": 247,
   "id": "f010c324",
   "metadata": {},
   "outputs": [
    {
     "name": "stdout",
     "output_type": "stream",
     "text": [
      "ignore\n"
     ]
    }
   ],
   "source": [
    "### TRAINING DATASET\n",
    "try:\n",
    "    m3_dataset = m3_dataset.drop(['Unnamed: 0'],axis=1)\n",
    "except:\n",
    "    print(\"ignore\")\n",
    "\n",
    "#to excel\n",
    "if not Path(\"./datasets/model_3/training-3.xlsx\").is_file():\n",
    "    m3_dataset.to_excel(\"./datasets/model_3/training-3.xlsx\",index=False)\n",
    "\n",
    "if not Path(\"./datasets/model_3/training-3.csv\").is_file():\n",
    "    m3_dataset.to_csv(\"./datasets/model_3/training-3.csv\",index=False)"
   ]
  },
  {
   "cell_type": "code",
   "execution_count": 248,
   "id": "b0fbb6ee",
   "metadata": {},
   "outputs": [
    {
     "name": "stdout",
     "output_type": "stream",
     "text": [
      "ignore\n"
     ]
    }
   ],
   "source": [
    "### FORECASE DATASET\n",
    "\n",
    "try:\n",
    "    m3_forecast = m3_forecast.drop(['Unnamed: 0'],axis=1)\n",
    "except:\n",
    "    print(\"ignore\")\n",
    "\n",
    "#to excel\n",
    "if not Path(\"./datasets/model_3/forecast-3.xlsx\").is_file():\n",
    "    m3_forecast.to_excel(\"./datasets/model_3/forecast.xlsx\",index=False)\n",
    "\n",
    "if not Path(\"./datasets/model_3/forecast-3.csv\").is_file():\n",
    "    m3_forecast.to_csv(\"./datasets/model_3/forecast-3.csv\",index=False)"
   ]
  },
  {
   "cell_type": "code",
   "execution_count": null,
   "id": "13a1b60e",
   "metadata": {},
   "outputs": [],
   "source": []
  }
 ],
 "metadata": {
  "kernelspec": {
   "display_name": "Python 3 (ipykernel)",
   "language": "python",
   "name": "python3"
  },
  "language_info": {
   "codemirror_mode": {
    "name": "ipython",
    "version": 3
   },
   "file_extension": ".py",
   "mimetype": "text/x-python",
   "name": "python",
   "nbconvert_exporter": "python",
   "pygments_lexer": "ipython3",
   "version": "3.8.10"
  }
 },
 "nbformat": 4,
 "nbformat_minor": 5
}
