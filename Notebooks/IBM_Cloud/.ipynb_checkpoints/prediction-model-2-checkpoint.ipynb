{
 "cells": [
  {
   "cell_type": "code",
   "execution_count": 26,
   "id": "ad0f643d",
   "metadata": {},
   "outputs": [],
   "source": [
    "import json\n",
    "import requests\n",
    "import numpy as np\n",
    "import pandas as pd\n",
    "from matplotlib import pyplot as plt"
   ]
  },
  {
   "cell_type": "code",
   "execution_count": 27,
   "id": "347c49c3",
   "metadata": {},
   "outputs": [],
   "source": [
    "#read API key\n",
    "f = open(\"./APIKEYS/apikey-model1.json\")\n",
    "model1_api = json.load(f)\n",
    "f.close()"
   ]
  },
  {
   "cell_type": "code",
   "execution_count": 28,
   "id": "ecfc90c2",
   "metadata": {},
   "outputs": [],
   "source": [
    "API_KEY = model1_api[\"apikey\"]\n",
    "token_response = requests.post('https://iam.cloud.ibm.com/identity/token', data={\"apikey\": API_KEY, \"grant_type\": 'urn:ibm:params:oauth:grant-type:apikey'})\n",
    "mltoken = token_response.json()[\"access_token\"]"
   ]
  },
  {
   "cell_type": "code",
   "execution_count": 29,
   "id": "12601ff6",
   "metadata": {},
   "outputs": [],
   "source": [
    "#read main excel sheet\n",
    "forecast = pd.read_excel('./datasets/model_2/forecast.xlsx')\n",
    "dataset = pd.read_excel('./datasets/model_2/training.xlsx')"
   ]
  },
  {
   "cell_type": "code",
   "execution_count": 39,
   "id": "1a5a8591",
   "metadata": {},
   "outputs": [],
   "source": [
    "forecast_copy = forecast.copy()\n",
    "\n",
    "dataset_copy = dataset.copy()\n",
    "dataset_copy = dataset_copy.drop([\"SALES_UNITS\"],axis=1)\n",
    "\n",
    "sales_units = dataset[\"SALES_UNITS\"]"
   ]
  },
  {
   "cell_type": "code",
   "execution_count": 38,
   "id": "422798df",
   "metadata": {},
   "outputs": [],
   "source": [
    "forecast_cols = list(forecast_copy.columns)\n",
    "forecast_vals = forecast_copy.values.tolist()\n",
    "\n",
    "dataset_cols = list(dataset_copy.columns)\n",
    "dataset_vals = dataset_copy.values.tolist()"
   ]
  },
  {
   "cell_type": "code",
   "execution_count": 9,
   "id": "3aa08eee",
   "metadata": {},
   "outputs": [],
   "source": [
    "def predict(cols,values,mltoken):\n",
    "    header = {'Content-Type': 'application/json', 'Authorization': 'Bearer ' + mltoken}\n",
    "\n",
    "    # NOTE: manually define and pass the array(s) of values to be scored in the next line\n",
    "    payload_scoring = {\"input_data\": [{\"fields\": cols, \"values\": values}]}\n",
    "\n",
    "    response_scoring = requests.post('https://eu-de.ml.cloud.ibm.com/ml/v4/deployments/historic_sales_forecast_model2/predictions?version=2021-09-21&version=2021-09-21', json=payload_scoring, headers={'Authorization': 'Bearer ' + mltoken})\n",
    "    \n",
    "    result = [int(i[0]) for i in response_scoring.json()['predictions'][0]['values']]\n",
    "    \n",
    "    return result"
   ]
  },
  {
   "cell_type": "code",
   "execution_count": 34,
   "id": "4effa9cf",
   "metadata": {},
   "outputs": [],
   "source": [
    "predictions = predict(forecast_cols,forecast_vals,mltoken)"
   ]
  },
  {
   "cell_type": "code",
   "execution_count": 40,
   "id": "14e88b16",
   "metadata": {},
   "outputs": [],
   "source": [
    "original = predict(dataset_cols,dataset_vals,mltoken)"
   ]
  },
  {
   "cell_type": "code",
   "execution_count": null,
   "id": "ac8fb6b8",
   "metadata": {},
   "outputs": [],
   "source": [
    "def plot(dataset,forecast,original,predictions,timeframe,column,real=True,smooth_factor = 5):\n",
    "    data_1 = list()\n",
    "    data_2 = list()\n",
    "    original_forecast = list()\n",
    "    sales_forecast = list()\n",
    "    \n",
    "    temp = dataset[column].values.tolist()\n",
    "    if timeframe == -1:\n",
    "        data_1 = temp\n",
    "        original_forecast = original\n",
    "    else:\n",
    "        data_1 = temp[-1*timeframe:]\n",
    "        original_forecast = original[-1*timeframe]\n",
    "\n",
    "    original_sales = dataset[\"SALES_UNITS\"].values.tolist()\n",
    "    \n",
    "    \n",
    "    data_2 = forecast[column].values.tolist()\n",
    "    sales_forecast = predictions\n",
    "    \n",
    "    combined_data = data_1.extend(data_2)\n",
    "    \n",
    "    if real:\n",
    "        combined_forecast = original_sales.extend(sales_forecast)\n",
    "    else:\n",
    "        combined_forecast = original_forecast.extend(sales_forecast)\n",
    "    \n",
    "    plt.figure(figsize=(20,15)) #plotting\n",
    "    plt.axvline(x=len(combined_data), c='r', linestyle='--') #size of the training set\n",
    "\n",
    "    plt.plot(smooth(combined_data,smooth_factor), label=column) \n",
    "    plt.plot(smooth(combined_forecast,smooth_factor), label='Sales Prediction') \n",
    "    plt.title('Time-Series Prediction')\n",
    "    plt.legend()\n",
    "    plt.show() \n",
    "    "
   ]
  },
  {
   "cell_type": "code",
   "execution_count": 48,
   "id": "7a365279",
   "metadata": {},
   "outputs": [
    {
     "data": {
      "text/plain": [
       "[100, 50, 102, 50, 2, 250, 300, 50, 50, 100, 100, 12, 120, 120]"
      ]
     },
     "execution_count": 48,
     "metadata": {},
     "output_type": "execute_result"
    }
   ],
   "source": [
    "dataset[\"SALES_UNITS\"].values.tolist()[-14:]"
   ]
  },
  {
   "cell_type": "code",
   "execution_count": null,
   "id": "145dc889",
   "metadata": {},
   "outputs": [],
   "source": []
  }
 ],
 "metadata": {
  "kernelspec": {
   "display_name": "Python 3 (ipykernel)",
   "language": "python",
   "name": "python3"
  },
  "language_info": {
   "codemirror_mode": {
    "name": "ipython",
    "version": 3
   },
   "file_extension": ".py",
   "mimetype": "text/x-python",
   "name": "python",
   "nbconvert_exporter": "python",
   "pygments_lexer": "ipython3",
   "version": "3.8.10"
  }
 },
 "nbformat": 4,
 "nbformat_minor": 5
}
